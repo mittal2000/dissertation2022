{
 "cells": [
  {
   "cell_type": "code",
   "execution_count": null,
   "id": "752e6b92",
   "metadata": {},
   "outputs": [
    {
     "name": "stdout",
     "output_type": "stream",
     "text": [
      "\u001b[1minfo:\u001b[0m downloading installer\n",
      "\u001b[1m\n",
      "Welcome to Rust!\n",
      "\u001b[m\n",
      "This will download and install the official compiler for the Rust\n",
      "programming language, and its package manager, Cargo.\n",
      "\n",
      "Rustup metadata and toolchains will be installed into the Rustup\n",
      "home directory, located at:\n",
      "\n",
      "  /Users/ben/.rustup\n",
      "\n",
      "This can be modified with the RUSTUP_HOME environment variable.\n",
      "\n",
      "The Cargo home directory is located at:\n",
      "\n",
      "  /Users/ben/.cargo\n",
      "\n",
      "This can be modified with the CARGO_HOME environment variable.\n",
      "\n",
      "The \u001b[1mcargo\u001b[m, \u001b[1mrustc\u001b[m, \u001b[1mrustup\u001b[m and other commands will be added to\n",
      "Cargo's bin directory, located at:\n",
      "\n",
      "  /Users/ben/.cargo/bin\n",
      "\n",
      "This path will then be added to your \u001b[1mPATH\u001b[m environment variable by\n",
      "modifying the profile files located at:\n",
      "\n",
      "  /Users/ben/.profile\n",
      "  /Users/ben/.bash_profile\n",
      "  /Users/ben/.zshenv\n",
      "\n",
      "You can uninstall at any time with \u001b[1mrustup self uninstall\u001b[m and\n",
      "these changes will be reverted.\n",
      "\n",
      "Current installation options:\n",
      "\n",
      "\n",
      "\u001b[1m   \u001b[mdefault host triple: \u001b[1maarch64-apple-darwin\u001b[m\n",
      "\u001b[1m     \u001b[mdefault toolchain: \u001b[1mstable (default)\u001b[m\n",
      "\u001b[1m               \u001b[mprofile: \u001b[1mdefault\u001b[m\n",
      "  modify PATH variable: \u001b[1myes\u001b[m\n",
      "\n",
      "1) Proceed with installation (default)\n",
      "2) Customize installation\n",
      "3) Cancel installation\n",
      ">"
     ]
    }
   ],
   "source": [
    "!curl --proto '=https' --tlsv1.2 -sSf https://sh.rustup.rs | sh"
   ]
  },
  {
   "cell_type": "code",
   "execution_count": 2,
   "id": "e4ddf468",
   "metadata": {},
   "outputs": [
    {
     "name": "stdout",
     "output_type": "stream",
     "text": [
      "Collecting git+https://github.com/pmorris2012/CLIPEmbedding.git\n",
      "  Cloning https://github.com/pmorris2012/CLIPEmbedding.git to /private/var/folders/36/n2ccf7zd4js2hgf68xyllqh00000gn/T/pip-req-build-eigox2p6\n",
      "  Running command git clone --filter=blob:none --quiet https://github.com/pmorris2012/CLIPEmbedding.git /private/var/folders/36/n2ccf7zd4js2hgf68xyllqh00000gn/T/pip-req-build-eigox2p6\n",
      "  Resolved https://github.com/pmorris2012/CLIPEmbedding.git to commit df356512f312f04c9ddbc72c88b5006a64359602\n",
      "  Preparing metadata (setup.py) ... \u001b[?25ldone\n",
      "\u001b[?25hCollecting ftfy\n",
      "  Using cached ftfy-6.1.1-py3-none-any.whl (53 kB)\n",
      "Requirement already satisfied: numpy in /opt/homebrew/Caskroom/miniforge/base/envs/torch/lib/python3.9/site-packages (from CLIPEmbedding==0.0.1) (1.19.5)\n",
      "Collecting transformers\n",
      "  Using cached transformers-4.20.1-py3-none-any.whl (4.4 MB)\n",
      "Requirement already satisfied: wcwidth>=0.2.5 in /opt/homebrew/Caskroom/miniforge/base/envs/torch/lib/python3.9/site-packages (from ftfy->CLIPEmbedding==0.0.1) (0.2.5)\n",
      "Collecting regex!=2019.12.17\n",
      "  Downloading regex-2022.7.9-cp39-cp39-macosx_11_0_arm64.whl (281 kB)\n",
      "\u001b[2K     \u001b[90m━━━━━━━━━━━━━━━━━━━━━━━━━━━━━━━━━━━━━━━\u001b[0m \u001b[32m281.8/281.8 kB\u001b[0m \u001b[31m4.5 MB/s\u001b[0m eta \u001b[36m0:00:00\u001b[0ma \u001b[36m0:00:01\u001b[0m\n",
      "\u001b[?25hCollecting tokenizers!=0.11.3,<0.13,>=0.11.1\n",
      "  Using cached tokenizers-0.12.1-cp39-cp39-macosx_12_0_arm64.whl\n",
      "Collecting tqdm>=4.27\n",
      "  Downloading tqdm-4.64.0-py2.py3-none-any.whl (78 kB)\n",
      "\u001b[2K     \u001b[90m━━━━━━━━━━━━━━━━━━━━━━━━━━━━━━━━━━━━━━━━\u001b[0m \u001b[32m78.4/78.4 kB\u001b[0m \u001b[31m2.9 MB/s\u001b[0m eta \u001b[36m0:00:00\u001b[0m\n",
      "\u001b[?25hRequirement already satisfied: requests in /opt/homebrew/Caskroom/miniforge/base/envs/torch/lib/python3.9/site-packages (from transformers->CLIPEmbedding==0.0.1) (2.28.1)\n",
      "Collecting huggingface-hub<1.0,>=0.1.0\n",
      "  Using cached huggingface_hub-0.8.1-py3-none-any.whl (101 kB)\n",
      "Requirement already satisfied: packaging>=20.0 in /opt/homebrew/Caskroom/miniforge/base/envs/torch/lib/python3.9/site-packages (from transformers->CLIPEmbedding==0.0.1) (21.3)\n",
      "Collecting pyyaml>=5.1\n",
      "  Using cached PyYAML-6.0-cp39-cp39-macosx_11_0_arm64.whl (173 kB)\n",
      "Collecting filelock\n",
      "  Using cached filelock-3.7.1-py3-none-any.whl (10 kB)\n",
      "Requirement already satisfied: typing-extensions>=3.7.4.3 in /opt/homebrew/Caskroom/miniforge/base/envs/torch/lib/python3.9/site-packages (from huggingface-hub<1.0,>=0.1.0->transformers->CLIPEmbedding==0.0.1) (4.1.1)\n",
      "Requirement already satisfied: pyparsing!=3.0.5,>=2.0.2 in /opt/homebrew/Caskroom/miniforge/base/envs/torch/lib/python3.9/site-packages (from packaging>=20.0->transformers->CLIPEmbedding==0.0.1) (3.0.4)\n",
      "Requirement already satisfied: certifi>=2017.4.17 in /opt/homebrew/Caskroom/miniforge/base/envs/torch/lib/python3.9/site-packages (from requests->transformers->CLIPEmbedding==0.0.1) (2022.6.15)\n",
      "Requirement already satisfied: idna<4,>=2.5 in /opt/homebrew/Caskroom/miniforge/base/envs/torch/lib/python3.9/site-packages (from requests->transformers->CLIPEmbedding==0.0.1) (3.3)\n",
      "Requirement already satisfied: urllib3<1.27,>=1.21.1 in /opt/homebrew/Caskroom/miniforge/base/envs/torch/lib/python3.9/site-packages (from requests->transformers->CLIPEmbedding==0.0.1) (1.26.9)\n",
      "Requirement already satisfied: charset-normalizer<3,>=2 in /opt/homebrew/Caskroom/miniforge/base/envs/torch/lib/python3.9/site-packages (from requests->transformers->CLIPEmbedding==0.0.1) (2.0.4)\n",
      "Building wheels for collected packages: CLIPEmbedding\n",
      "  Building wheel for CLIPEmbedding (setup.py) ... \u001b[?25ldone\n",
      "\u001b[?25h  Created wheel for CLIPEmbedding: filename=CLIPEmbedding-0.0.1-py3-none-any.whl size=14796 sha256=b3d68b055271c27e332fb24c691386f1073dd23ec72f1f279c92a86d537d963f\n",
      "  Stored in directory: /private/var/folders/36/n2ccf7zd4js2hgf68xyllqh00000gn/T/pip-ephem-wheel-cache-2j3yir8r/wheels/25/df/21/ce51c0d64fc5eafe3c9fb615c40d649045813dfffb189c912c\n",
      "Successfully built CLIPEmbedding\n",
      "Installing collected packages: tokenizers, tqdm, regex, pyyaml, ftfy, filelock, huggingface-hub, transformers, CLIPEmbedding\n",
      "Successfully installed CLIPEmbedding-0.0.1 filelock-3.7.1 ftfy-6.1.1 huggingface-hub-0.8.1 pyyaml-6.0 regex-2022.7.9 tokenizers-0.12.1 tqdm-4.64.0 transformers-4.20.1\n"
     ]
    }
   ],
   "source": [
    "# !pip3 install git+https://github.com/pmorris2012/CLIPEmbedding.git\n"
   ]
  },
  {
   "cell_type": "code",
   "execution_count": 1,
   "id": "31fe4d31",
   "metadata": {},
   "outputs": [
    {
     "ename": "ModuleNotFoundError",
     "evalue": "No module named 'CLIPEmbedding'",
     "output_type": "error",
     "traceback": [
      "\u001b[0;31m---------------------------------------------------------------------------\u001b[0m",
      "\u001b[0;31mModuleNotFoundError\u001b[0m                       Traceback (most recent call last)",
      "Input \u001b[0;32mIn [1]\u001b[0m, in \u001b[0;36m<cell line: 1>\u001b[0;34m()\u001b[0m\n\u001b[0;32m----> 1\u001b[0m \u001b[38;5;28;01mfrom\u001b[39;00m \u001b[38;5;21;01mCLIPEmbedding\u001b[39;00m \u001b[38;5;28;01mimport\u001b[39;00m CLIPEmbedding\n\u001b[1;32m      2\u001b[0m \u001b[38;5;28;01mfrom\u001b[39;00m \u001b[38;5;21;01mskimage\u001b[39;00m\u001b[38;5;21;01m.\u001b[39;00m\u001b[38;5;21;01mio\u001b[39;00m \u001b[38;5;28;01mimport\u001b[39;00m imread\n\u001b[1;32m      4\u001b[0m clip \u001b[38;5;241m=\u001b[39m CLIPEmbedding(\n\u001b[1;32m      5\u001b[0m     \u001b[38;5;66;03m#model_path=\"openai/clip-vit-base-patch32\", #🤗 Transformers URI or Path to checkpoint file\u001b[39;00m\n\u001b[1;32m      6\u001b[0m     \u001b[38;5;66;03m#device='cuda' #defaults to 'cpu'\u001b[39;00m\n\u001b[1;32m      7\u001b[0m )\n",
      "\u001b[0;31mModuleNotFoundError\u001b[0m: No module named 'CLIPEmbedding'"
     ]
    }
   ],
   "source": [
    "from CLIPEmbedding import CLIPEmbedding\n",
    "from skimage.io import imread\n",
    "\n",
    "clip = CLIPEmbedding(\n",
    "    #model_path=\"openai/clip-vit-base-patch32\", #🤗 Transformers URI or Path to checkpoint file\n",
    "    #device='cuda' #defaults to 'cpu'\n",
    ")\n",
    "\n",
    "im = imread(\"https://picsum.photos/224/224\")\n",
    "\n",
    "im = clip.embed_images([im]) #list of PIL Images, numpy arrays, or torch Tensors\n",
    "text = clip.embed_text([\"red\", \"blue\", \"green\", \"yellow\"])\n",
    "\n",
    "print(im.shape) #(1, 512)\n",
    "print(text.shape) #(4, 512)\n",
    "\n",
    "scores = clip.similarity(im, text, softmax=True)\n",
    "print(scores.shape) #(1, 4)"
   ]
  },
  {
   "cell_type": "code",
   "execution_count": 6,
   "id": "e8afdebd",
   "metadata": {},
   "outputs": [
    {
     "ename": "ModuleNotFoundError",
     "evalue": "No module named 'torch'",
     "output_type": "error",
     "traceback": [
      "\u001b[0;31m---------------------------------------------------------------------------\u001b[0m",
      "\u001b[0;31mModuleNotFoundError\u001b[0m                       Traceback (most recent call last)",
      "Input \u001b[0;32mIn [6]\u001b[0m, in \u001b[0;36m<cell line: 1>\u001b[0;34m()\u001b[0m\n\u001b[0;32m----> 1\u001b[0m \u001b[38;5;28;01mimport\u001b[39;00m \u001b[38;5;21;01mtorch\u001b[39;00m\n",
      "\u001b[0;31mModuleNotFoundError\u001b[0m: No module named 'torch'"
     ]
    }
   ],
   "source": [
    "import torch"
   ]
  },
  {
   "cell_type": "code",
   "execution_count": null,
   "id": "3e1c7cf7-2587-4797-8ea3-897a80fdfcd8",
   "metadata": {},
   "outputs": [],
   "source": []
  }
 ],
 "metadata": {
  "kernelspec": {
   "display_name": "Python 3.9 (tensorflow)",
   "language": "python",
   "name": "tensorflow"
  },
  "language_info": {
   "codemirror_mode": {
    "name": "ipython",
    "version": 3
   },
   "file_extension": ".py",
   "mimetype": "text/x-python",
   "name": "python",
   "nbconvert_exporter": "python",
   "pygments_lexer": "ipython3",
   "version": "3.9.12"
  }
 },
 "nbformat": 4,
 "nbformat_minor": 5
}
