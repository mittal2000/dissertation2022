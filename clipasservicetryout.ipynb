{
 "cells": [
  {
   "cell_type": "code",
   "execution_count": 1,
   "id": "66769390",
   "metadata": {},
   "outputs": [
    {
     "data": {
      "text/plain": [
       "['Unnamed: 0',\n",
       " 'category',\n",
       " 'headline',\n",
       " 'authors',\n",
       " 'link',\n",
       " 'short descr',\n",
       " 'date',\n",
       " 'image_caption(s)',\n",
       " 'image_link(s)']"
      ]
     },
     "execution_count": 1,
     "metadata": {},
     "output_type": "execute_result"
    }
   ],
   "source": [
    "import pandas as pd\n",
    "df = pd.read_csv('/Users/ben/Desktop/DISSERTATION/github/dissertation2022/kagglenewsdataset.csv')\n",
    "df.columns.tolist()\n"
   ]
  },
  {
   "cell_type": "code",
   "execution_count": 3,
   "id": "e3d9456e",
   "metadata": {},
   "outputs": [],
   "source": [
    "shortdf = df[1:100]"
   ]
  },
  {
   "cell_type": "code",
   "execution_count": 4,
   "id": "ab22d817",
   "metadata": {},
   "outputs": [
    {
     "data": {
      "text/html": [
       "<div>\n",
       "<style scoped>\n",
       "    .dataframe tbody tr th:only-of-type {\n",
       "        vertical-align: middle;\n",
       "    }\n",
       "\n",
       "    .dataframe tbody tr th {\n",
       "        vertical-align: top;\n",
       "    }\n",
       "\n",
       "    .dataframe thead th {\n",
       "        text-align: right;\n",
       "    }\n",
       "</style>\n",
       "<table border=\"1\" class=\"dataframe\">\n",
       "  <thead>\n",
       "    <tr style=\"text-align: right;\">\n",
       "      <th></th>\n",
       "      <th>Unnamed: 0</th>\n",
       "      <th>category</th>\n",
       "      <th>headline</th>\n",
       "      <th>authors</th>\n",
       "      <th>link</th>\n",
       "      <th>short descr</th>\n",
       "      <th>date</th>\n",
       "      <th>image_caption(s)</th>\n",
       "      <th>image_link(s)</th>\n",
       "    </tr>\n",
       "  </thead>\n",
       "  <tbody>\n",
       "    <tr>\n",
       "      <th>1</th>\n",
       "      <td>1</td>\n",
       "      <td>CRIME</td>\n",
       "      <td>There Were 2 Mass Shootings In Texas Last Week...</td>\n",
       "      <td>Melissa Jeltsen</td>\n",
       "      <td>https://www.huffingtonpost.com/entry/texas-ama...</td>\n",
       "      <td>She left her husband. He killed their children...</td>\n",
       "      <td>2018-05-26</td>\n",
       "      <td>Donna Bloom, director of legal services at Den...</td>\n",
       "      <td>https://img.huffingtonpost.com/asset/5b081d6c1...</td>\n",
       "    </tr>\n",
       "    <tr>\n",
       "      <th>2</th>\n",
       "      <td>2</td>\n",
       "      <td>CRIME</td>\n",
       "      <td>There Were 2 Mass Shootings In Texas Last Week...</td>\n",
       "      <td>Melissa Jeltsen</td>\n",
       "      <td>https://www.huffingtonpost.com/entry/texas-ama...</td>\n",
       "      <td>She left her husband. He killed their children...</td>\n",
       "      <td>2018-05-26</td>\n",
       "      <td>NaN</td>\n",
       "      <td>https://img.huffingtonpost.com/asset/5b081c9f1...</td>\n",
       "    </tr>\n",
       "    <tr>\n",
       "      <th>3</th>\n",
       "      <td>3</td>\n",
       "      <td>CRIME</td>\n",
       "      <td>There Were 2 Mass Shootings In Texas Last Week...</td>\n",
       "      <td>Melissa Jeltsen</td>\n",
       "      <td>https://www.huffingtonpost.com/entry/texas-ama...</td>\n",
       "      <td>She left her husband. He killed their children...</td>\n",
       "      <td>2018-05-26</td>\n",
       "      <td>NaN</td>\n",
       "      <td>https://img.huffingtonpost.com/asset/5b0844b51...</td>\n",
       "    </tr>\n",
       "    <tr>\n",
       "      <th>4</th>\n",
       "      <td>4</td>\n",
       "      <td>CRIME</td>\n",
       "      <td>There Were 2 Mass Shootings In Texas Last Week...</td>\n",
       "      <td>Melissa Jeltsen</td>\n",
       "      <td>https://www.huffingtonpost.com/entry/texas-ama...</td>\n",
       "      <td>She left her husband. He killed their children...</td>\n",
       "      <td>2018-05-26</td>\n",
       "      <td>Melissa Jeltsen - Senior Reporter, HuffPost</td>\n",
       "      <td>https://img.huffingtonpost.com/asset/5c1128ec2...</td>\n",
       "    </tr>\n",
       "    <tr>\n",
       "      <th>5</th>\n",
       "      <td>5</td>\n",
       "      <td>CRIME</td>\n",
       "      <td>There Were 2 Mass Shootings In Texas Last Week...</td>\n",
       "      <td>Melissa Jeltsen</td>\n",
       "      <td>https://www.huffingtonpost.com/entry/texas-ama...</td>\n",
       "      <td>She left her husband. He killed their children...</td>\n",
       "      <td>2018-05-26</td>\n",
       "      <td>NaN</td>\n",
       "      <td>https://img.huffingtonpost.com/asset/62bb083f2...</td>\n",
       "    </tr>\n",
       "    <tr>\n",
       "      <th>...</th>\n",
       "      <td>...</td>\n",
       "      <td>...</td>\n",
       "      <td>...</td>\n",
       "      <td>...</td>\n",
       "      <td>...</td>\n",
       "      <td>...</td>\n",
       "      <td>...</td>\n",
       "      <td>...</td>\n",
       "      <td>...</td>\n",
       "    </tr>\n",
       "    <tr>\n",
       "      <th>95</th>\n",
       "      <td>95</td>\n",
       "      <td>ENTERTAINMENT</td>\n",
       "      <td>What To Watch On Hulu That’s New This Week</td>\n",
       "      <td>Todd Van Luling</td>\n",
       "      <td>https://www.huffingtonpost.com/entry/hulu-what...</td>\n",
       "      <td>You're getting a recent Academy Award-winning ...</td>\n",
       "      <td>2018-05-26</td>\n",
       "      <td>NaN</td>\n",
       "      <td>https://img.huffingtonpost.com/asset/62b7ebfc2...</td>\n",
       "    </tr>\n",
       "    <tr>\n",
       "      <th>96</th>\n",
       "      <td>96</td>\n",
       "      <td>ENTERTAINMENT</td>\n",
       "      <td>What To Watch On Hulu That’s New This Week</td>\n",
       "      <td>Todd Van Luling</td>\n",
       "      <td>https://www.huffingtonpost.com/entry/hulu-what...</td>\n",
       "      <td>You're getting a recent Academy Award-winning ...</td>\n",
       "      <td>2018-05-26</td>\n",
       "      <td>Todd Van Luling - Senior Culture Reporter, Huf...</td>\n",
       "      <td>https://img.huffingtonpost.com/asset/5e5b285f2...</td>\n",
       "    </tr>\n",
       "    <tr>\n",
       "      <th>97</th>\n",
       "      <td>97</td>\n",
       "      <td>ENTERTAINMENT</td>\n",
       "      <td>What To Watch On Hulu That’s New This Week</td>\n",
       "      <td>Todd Van Luling</td>\n",
       "      <td>https://www.huffingtonpost.com/entry/hulu-what...</td>\n",
       "      <td>You're getting a recent Academy Award-winning ...</td>\n",
       "      <td>2018-05-26</td>\n",
       "      <td>NaN</td>\n",
       "      <td>https://img.huffingtonpost.com/asset/62bb3d1d2...</td>\n",
       "    </tr>\n",
       "    <tr>\n",
       "      <th>98</th>\n",
       "      <td>98</td>\n",
       "      <td>ENTERTAINMENT</td>\n",
       "      <td>What To Watch On Hulu That’s New This Week</td>\n",
       "      <td>Todd Van Luling</td>\n",
       "      <td>https://www.huffingtonpost.com/entry/hulu-what...</td>\n",
       "      <td>You're getting a recent Academy Award-winning ...</td>\n",
       "      <td>2018-05-26</td>\n",
       "      <td>NaN</td>\n",
       "      <td>https://img.huffingtonpost.com/asset/62bae6ed2...</td>\n",
       "    </tr>\n",
       "    <tr>\n",
       "      <th>99</th>\n",
       "      <td>99</td>\n",
       "      <td>ENTERTAINMENT</td>\n",
       "      <td>What To Watch On Hulu That’s New This Week</td>\n",
       "      <td>Todd Van Luling</td>\n",
       "      <td>https://www.huffingtonpost.com/entry/hulu-what...</td>\n",
       "      <td>You're getting a recent Academy Award-winning ...</td>\n",
       "      <td>2018-05-26</td>\n",
       "      <td>NaN</td>\n",
       "      <td>https://img.huffingtonpost.com/asset/62bad7102...</td>\n",
       "    </tr>\n",
       "  </tbody>\n",
       "</table>\n",
       "<p>99 rows × 9 columns</p>\n",
       "</div>"
      ],
      "text/plain": [
       "    Unnamed: 0       category  \\\n",
       "1            1          CRIME   \n",
       "2            2          CRIME   \n",
       "3            3          CRIME   \n",
       "4            4          CRIME   \n",
       "5            5          CRIME   \n",
       "..         ...            ...   \n",
       "95          95  ENTERTAINMENT   \n",
       "96          96  ENTERTAINMENT   \n",
       "97          97  ENTERTAINMENT   \n",
       "98          98  ENTERTAINMENT   \n",
       "99          99  ENTERTAINMENT   \n",
       "\n",
       "                                             headline          authors  \\\n",
       "1   There Were 2 Mass Shootings In Texas Last Week...  Melissa Jeltsen   \n",
       "2   There Were 2 Mass Shootings In Texas Last Week...  Melissa Jeltsen   \n",
       "3   There Were 2 Mass Shootings In Texas Last Week...  Melissa Jeltsen   \n",
       "4   There Were 2 Mass Shootings In Texas Last Week...  Melissa Jeltsen   \n",
       "5   There Were 2 Mass Shootings In Texas Last Week...  Melissa Jeltsen   \n",
       "..                                                ...              ...   \n",
       "95         What To Watch On Hulu That’s New This Week  Todd Van Luling   \n",
       "96         What To Watch On Hulu That’s New This Week  Todd Van Luling   \n",
       "97         What To Watch On Hulu That’s New This Week  Todd Van Luling   \n",
       "98         What To Watch On Hulu That’s New This Week  Todd Van Luling   \n",
       "99         What To Watch On Hulu That’s New This Week  Todd Van Luling   \n",
       "\n",
       "                                                 link  \\\n",
       "1   https://www.huffingtonpost.com/entry/texas-ama...   \n",
       "2   https://www.huffingtonpost.com/entry/texas-ama...   \n",
       "3   https://www.huffingtonpost.com/entry/texas-ama...   \n",
       "4   https://www.huffingtonpost.com/entry/texas-ama...   \n",
       "5   https://www.huffingtonpost.com/entry/texas-ama...   \n",
       "..                                                ...   \n",
       "95  https://www.huffingtonpost.com/entry/hulu-what...   \n",
       "96  https://www.huffingtonpost.com/entry/hulu-what...   \n",
       "97  https://www.huffingtonpost.com/entry/hulu-what...   \n",
       "98  https://www.huffingtonpost.com/entry/hulu-what...   \n",
       "99  https://www.huffingtonpost.com/entry/hulu-what...   \n",
       "\n",
       "                                          short descr        date  \\\n",
       "1   She left her husband. He killed their children...  2018-05-26   \n",
       "2   She left her husband. He killed their children...  2018-05-26   \n",
       "3   She left her husband. He killed their children...  2018-05-26   \n",
       "4   She left her husband. He killed their children...  2018-05-26   \n",
       "5   She left her husband. He killed their children...  2018-05-26   \n",
       "..                                                ...         ...   \n",
       "95  You're getting a recent Academy Award-winning ...  2018-05-26   \n",
       "96  You're getting a recent Academy Award-winning ...  2018-05-26   \n",
       "97  You're getting a recent Academy Award-winning ...  2018-05-26   \n",
       "98  You're getting a recent Academy Award-winning ...  2018-05-26   \n",
       "99  You're getting a recent Academy Award-winning ...  2018-05-26   \n",
       "\n",
       "                                     image_caption(s)  \\\n",
       "1   Donna Bloom, director of legal services at Den...   \n",
       "2                                                 NaN   \n",
       "3                                                 NaN   \n",
       "4         Melissa Jeltsen - Senior Reporter, HuffPost   \n",
       "5                                                 NaN   \n",
       "..                                                ...   \n",
       "95                                                NaN   \n",
       "96  Todd Van Luling - Senior Culture Reporter, Huf...   \n",
       "97                                                NaN   \n",
       "98                                                NaN   \n",
       "99                                                NaN   \n",
       "\n",
       "                                        image_link(s)  \n",
       "1   https://img.huffingtonpost.com/asset/5b081d6c1...  \n",
       "2   https://img.huffingtonpost.com/asset/5b081c9f1...  \n",
       "3   https://img.huffingtonpost.com/asset/5b0844b51...  \n",
       "4   https://img.huffingtonpost.com/asset/5c1128ec2...  \n",
       "5   https://img.huffingtonpost.com/asset/62bb083f2...  \n",
       "..                                                ...  \n",
       "95  https://img.huffingtonpost.com/asset/62b7ebfc2...  \n",
       "96  https://img.huffingtonpost.com/asset/5e5b285f2...  \n",
       "97  https://img.huffingtonpost.com/asset/62bb3d1d2...  \n",
       "98  https://img.huffingtonpost.com/asset/62bae6ed2...  \n",
       "99  https://img.huffingtonpost.com/asset/62bad7102...  \n",
       "\n",
       "[99 rows x 9 columns]"
      ]
     },
     "execution_count": 4,
     "metadata": {},
     "output_type": "execute_result"
    }
   ],
   "source": [
    "shortdf"
   ]
  },
  {
   "cell_type": "code",
   "execution_count": 14,
   "id": "44c691b4",
   "metadata": {},
   "outputs": [
    {
     "data": {
      "text/html": [
       "<pre style=\"white-space:pre;overflow-x:auto;line-height:normal;font-family:Menlo,'DejaVu Sans Mono',consolas,'Courier New',monospace\">\n",
       "</pre>\n"
      ],
      "text/plain": [
       "\n"
      ]
     },
     "metadata": {},
     "output_type": "display_data"
    },
    {
     "data": {
      "text/html": [
       "<pre style=\"white-space:pre;overflow-x:auto;line-height:normal;font-family:Menlo,'DejaVu Sans Mono',consolas,'Courier New',monospace\">\n",
       "</pre>\n"
      ],
      "text/plain": [
       "\n"
      ]
     },
     "metadata": {},
     "output_type": "display_data"
    },
    {
     "name": "stdout",
     "output_type": "stream",
     "text": [
      "['Donna Bloom, director of legal services at Denton County Friends of the Family, visits Amanda at the transitional housing.', 'There Were 2 Mass Shootings In Texas Last Week, But Only 1 On TV', 'She left her husband. He killed their children. Just another day in America.']\n",
      "[0.9947634935379028, 0.0027010845951735973, 0.0025354507379233837]\n",
      "inside here\n"
     ]
    },
    {
     "data": {
      "text/html": [
       "<pre style=\"white-space:pre;overflow-x:auto;line-height:normal;font-family:Menlo,'DejaVu Sans Mono',consolas,'Courier New',monospace\">\n",
       "</pre>\n"
      ],
      "text/plain": [
       "\n"
      ]
     },
     "metadata": {},
     "output_type": "display_data"
    },
    {
     "data": {
      "text/html": [
       "<pre style=\"white-space:pre;overflow-x:auto;line-height:normal;font-family:Menlo,'DejaVu Sans Mono',consolas,'Courier New',monospace\">\n",
       "</pre>\n"
      ],
      "text/plain": [
       "\n"
      ]
     },
     "metadata": {},
     "output_type": "display_data"
    },
    {
     "name": "stdout",
     "output_type": "stream",
     "text": [
      "['There Were 2 Mass Shootings In Texas Last Week, But Only 1 On TV', 'She left her husband. He killed their children. Just another day in America.', 'nan']\n",
      "[0.8788682818412781, 0.12112505733966827, 6.724440936523024e-06]\n",
      "inside here\n"
     ]
    },
    {
     "data": {
      "text/html": [
       "<pre style=\"white-space:pre;overflow-x:auto;line-height:normal;font-family:Menlo,'DejaVu Sans Mono',consolas,'Courier New',monospace\">\n",
       "</pre>\n"
      ],
      "text/plain": [
       "\n"
      ]
     },
     "metadata": {},
     "output_type": "display_data"
    },
    {
     "data": {
      "text/html": [
       "<pre style=\"white-space:pre;overflow-x:auto;line-height:normal;font-family:Menlo,'DejaVu Sans Mono',consolas,'Courier New',monospace\">\n",
       "</pre>\n"
      ],
      "text/plain": [
       "\n"
      ]
     },
     "metadata": {},
     "output_type": "display_data"
    },
    {
     "name": "stdout",
     "output_type": "stream",
     "text": [
      "['There Were 2 Mass Shootings In Texas Last Week, But Only 1 On TV', 'She left her husband. He killed their children. Just another day in America.', 'nan']\n",
      "[0.8712052702903748, 0.12866733968257904, 0.00012739536759909242]\n",
      "inside here\n"
     ]
    },
    {
     "data": {
      "text/html": [
       "<pre style=\"white-space:pre;overflow-x:auto;line-height:normal;font-family:Menlo,'DejaVu Sans Mono',consolas,'Courier New',monospace\">\n",
       "</pre>\n"
      ],
      "text/plain": [
       "\n"
      ]
     },
     "metadata": {},
     "output_type": "display_data"
    },
    {
     "data": {
      "text/html": [
       "<pre style=\"white-space:pre;overflow-x:auto;line-height:normal;font-family:Menlo,'DejaVu Sans Mono',consolas,'Courier New',monospace\">\n",
       "</pre>\n"
      ],
      "text/plain": [
       "\n"
      ]
     },
     "metadata": {},
     "output_type": "display_data"
    },
    {
     "name": "stdout",
     "output_type": "stream",
     "text": [
      "['Melissa Jeltsen - Senior Reporter, HuffPost', 'She left her husband. He killed their children. Just another day in America.', 'There Were 2 Mass Shootings In Texas Last Week, But Only 1 On TV']\n",
      "[0.997334897518158, 0.002167311031371355, 0.0004977855714969337]\n",
      "inside here\n"
     ]
    },
    {
     "data": {
      "text/html": [
       "<pre style=\"white-space:pre;overflow-x:auto;line-height:normal;font-family:Menlo,'DejaVu Sans Mono',consolas,'Courier New',monospace\">\n",
       "</pre>\n"
      ],
      "text/plain": [
       "\n"
      ]
     },
     "metadata": {},
     "output_type": "display_data"
    },
    {
     "data": {
      "text/html": [
       "<pre style=\"white-space:pre;overflow-x:auto;line-height:normal;font-family:Menlo,'DejaVu Sans Mono',consolas,'Courier New',monospace\">\n",
       "</pre>\n"
      ],
      "text/plain": [
       "\n"
      ]
     },
     "metadata": {},
     "output_type": "display_data"
    },
    {
     "name": "stdout",
     "output_type": "stream",
     "text": [
      "['She left her husband. He killed their children. Just another day in America.', 'There Were 2 Mass Shootings In Texas Last Week, But Only 1 On TV', 'nan']\n",
      "[0.9817111492156982, 0.013610005378723145, 0.004678876604884863]\n",
      "inside here\n"
     ]
    },
    {
     "data": {
      "text/html": [
       "<pre style=\"white-space:pre;overflow-x:auto;line-height:normal;font-family:Menlo,'DejaVu Sans Mono',consolas,'Courier New',monospace\">\n",
       "</pre>\n"
      ],
      "text/plain": [
       "\n"
      ]
     },
     "metadata": {},
     "output_type": "display_data"
    },
    {
     "data": {
      "text/html": [
       "<pre style=\"white-space:pre;overflow-x:auto;line-height:normal;font-family:Menlo,'DejaVu Sans Mono',consolas,'Courier New',monospace\">\n",
       "</pre>\n"
      ],
      "text/plain": [
       "\n"
      ]
     },
     "metadata": {},
     "output_type": "display_data"
    },
    {
     "name": "stdout",
     "output_type": "stream",
     "text": [
      "['She left her husband. He killed their children. Just another day in America.', 'nan', 'There Were 2 Mass Shootings In Texas Last Week, But Only 1 On TV']\n",
      "[0.9715971946716309, 0.02367997355759144, 0.004722779616713524]\n",
      "inside here\n"
     ]
    },
    {
     "data": {
      "text/html": [
       "<pre style=\"white-space:pre;overflow-x:auto;line-height:normal;font-family:Menlo,'DejaVu Sans Mono',consolas,'Courier New',monospace\">\n",
       "</pre>\n"
      ],
      "text/plain": [
       "\n"
      ]
     },
     "metadata": {},
     "output_type": "display_data"
    },
    {
     "data": {
      "text/html": [
       "<pre style=\"white-space:pre;overflow-x:auto;line-height:normal;font-family:Menlo,'DejaVu Sans Mono',consolas,'Courier New',monospace\">\n",
       "</pre>\n"
      ],
      "text/plain": [
       "\n"
      ]
     },
     "metadata": {},
     "output_type": "display_data"
    },
    {
     "name": "stdout",
     "output_type": "stream",
     "text": [
      "['nan', 'She left her husband. He killed their children. Just another day in America.', 'There Were 2 Mass Shootings In Texas Last Week, But Only 1 On TV']\n",
      "[0.6909570097923279, 0.28183141350746155, 0.02721160463988781]\n",
      "inside here\n"
     ]
    },
    {
     "data": {
      "text/html": [
       "<pre style=\"white-space:pre;overflow-x:auto;line-height:normal;font-family:Menlo,'DejaVu Sans Mono',consolas,'Courier New',monospace\">\n",
       "</pre>\n"
      ],
      "text/plain": [
       "\n"
      ]
     },
     "metadata": {},
     "output_type": "display_data"
    },
    {
     "data": {
      "text/html": [
       "<pre style=\"white-space:pre;overflow-x:auto;line-height:normal;font-family:Menlo,'DejaVu Sans Mono',consolas,'Courier New',monospace\">\n",
       "</pre>\n"
      ],
      "text/plain": [
       "\n"
      ]
     },
     "metadata": {},
     "output_type": "display_data"
    },
    {
     "name": "stdout",
     "output_type": "stream",
     "text": [
      "['nan', 'She left her husband. He killed their children. Just another day in America.', 'There Were 2 Mass Shootings In Texas Last Week, But Only 1 On TV']\n",
      "[0.7461826801300049, 0.2391653060913086, 0.014651977457106113]\n",
      "inside here\n"
     ]
    },
    {
     "data": {
      "text/html": [
       "<pre style=\"white-space:pre;overflow-x:auto;line-height:normal;font-family:Menlo,'DejaVu Sans Mono',consolas,'Courier New',monospace\">\n",
       "</pre>\n"
      ],
      "text/plain": [
       "\n"
      ]
     },
     "metadata": {},
     "output_type": "display_data"
    },
    {
     "data": {
      "text/html": [
       "<pre style=\"white-space:pre;overflow-x:auto;line-height:normal;font-family:Menlo,'DejaVu Sans Mono',consolas,'Courier New',monospace\">\n",
       "</pre>\n"
      ],
      "text/plain": [
       "\n"
      ]
     },
     "metadata": {},
     "output_type": "display_data"
    },
    {
     "name": "stdout",
     "output_type": "stream",
     "text": [
      "['She left her husband. He killed their children. Just another day in America.', 'nan', 'There Were 2 Mass Shootings In Texas Last Week, But Only 1 On TV']\n",
      "[0.9875483512878418, 0.0065340157598257065, 0.005917657166719437]\n",
      "inside here\n"
     ]
    },
    {
     "data": {
      "text/html": [
       "<pre style=\"white-space:pre;overflow-x:auto;line-height:normal;font-family:Menlo,'DejaVu Sans Mono',consolas,'Courier New',monospace\">\n",
       "</pre>\n"
      ],
      "text/plain": [
       "\n"
      ]
     },
     "metadata": {},
     "output_type": "display_data"
    },
    {
     "data": {
      "text/html": [
       "<pre style=\"white-space:pre;overflow-x:auto;line-height:normal;font-family:Menlo,'DejaVu Sans Mono',consolas,'Courier New',monospace\">\n",
       "</pre>\n"
      ],
      "text/plain": [
       "\n"
      ]
     },
     "metadata": {},
     "output_type": "display_data"
    },
    {
     "name": "stdout",
     "output_type": "stream",
     "text": [
      "['Andy McDonald', 'Of course it has a song.', \"Will Smith Joins Diplo And Nicky Jam For The 2018 World Cup's Official Song\"]\n",
      "[0.5550906658172607, 0.40307408571243286, 0.04183525592088699]\n",
      "inside here\n"
     ]
    },
    {
     "data": {
      "text/html": [
       "<pre style=\"white-space:pre;overflow-x:auto;line-height:normal;font-family:Menlo,'DejaVu Sans Mono',consolas,'Courier New',monospace\">\n",
       "</pre>\n"
      ],
      "text/plain": [
       "\n"
      ]
     },
     "metadata": {},
     "output_type": "display_data"
    },
    {
     "data": {
      "text/html": [
       "<pre style=\"white-space:pre;overflow-x:auto;line-height:normal;font-family:Menlo,'DejaVu Sans Mono',consolas,'Courier New',monospace\">\n",
       "</pre>\n"
      ],
      "text/plain": [
       "\n"
      ]
     },
     "metadata": {},
     "output_type": "display_data"
    },
    {
     "name": "stdout",
     "output_type": "stream",
     "text": [
      "['nan', 'Of course it has a song.', \"Will Smith Joins Diplo And Nicky Jam For The 2018 World Cup's Official Song\"]\n",
      "[0.8712112903594971, 0.1287541687488556, 3.451194061199203e-05]\n",
      "inside here\n"
     ]
    },
    {
     "data": {
      "text/html": [
       "<pre style=\"white-space:pre;overflow-x:auto;line-height:normal;font-family:Menlo,'DejaVu Sans Mono',consolas,'Courier New',monospace\">\n",
       "</pre>\n"
      ],
      "text/plain": [
       "\n"
      ]
     },
     "metadata": {},
     "output_type": "display_data"
    },
    {
     "data": {
      "text/html": [
       "<pre style=\"white-space:pre;overflow-x:auto;line-height:normal;font-family:Menlo,'DejaVu Sans Mono',consolas,'Courier New',monospace\">\n",
       "</pre>\n"
      ],
      "text/plain": [
       "\n"
      ]
     },
     "metadata": {},
     "output_type": "display_data"
    },
    {
     "name": "stdout",
     "output_type": "stream",
     "text": [
      "['Andy McDonald - Writer, HuffPost', 'Of course it has a song.', \"Will Smith Joins Diplo And Nicky Jam For The 2018 World Cup's Official Song\"]\n",
      "[0.9912441968917847, 0.007932539097964764, 0.0008233222179114819]\n",
      "inside here\n"
     ]
    },
    {
     "data": {
      "text/html": [
       "<pre style=\"white-space:pre;overflow-x:auto;line-height:normal;font-family:Menlo,'DejaVu Sans Mono',consolas,'Courier New',monospace\">\n",
       "</pre>\n"
      ],
      "text/plain": [
       "\n"
      ]
     },
     "metadata": {},
     "output_type": "display_data"
    },
    {
     "data": {
      "text/html": [
       "<pre style=\"white-space:pre;overflow-x:auto;line-height:normal;font-family:Menlo,'DejaVu Sans Mono',consolas,'Courier New',monospace\">\n",
       "</pre>\n"
      ],
      "text/plain": [
       "\n"
      ]
     },
     "metadata": {},
     "output_type": "display_data"
    },
    {
     "name": "stdout",
     "output_type": "stream",
     "text": [
      "['nan', 'Of course it has a song.', \"Will Smith Joins Diplo And Nicky Jam For The 2018 World Cup's Official Song\"]\n",
      "[0.5471211671829224, 0.43320488929748535, 0.019673991948366165]\n",
      "inside here\n"
     ]
    },
    {
     "data": {
      "text/html": [
       "<pre style=\"white-space:pre;overflow-x:auto;line-height:normal;font-family:Menlo,'DejaVu Sans Mono',consolas,'Courier New',monospace\">\n",
       "</pre>\n"
      ],
      "text/plain": [
       "\n"
      ]
     },
     "metadata": {},
     "output_type": "display_data"
    },
    {
     "data": {
      "text/html": [
       "<pre style=\"white-space:pre;overflow-x:auto;line-height:normal;font-family:Menlo,'DejaVu Sans Mono',consolas,'Courier New',monospace\">\n",
       "</pre>\n"
      ],
      "text/plain": [
       "\n"
      ]
     },
     "metadata": {},
     "output_type": "display_data"
    },
    {
     "name": "stdout",
     "output_type": "stream",
     "text": [
      "['nan', 'Of course it has a song.', \"Will Smith Joins Diplo And Nicky Jam For The 2018 World Cup's Official Song\"]\n",
      "[0.7917985916137695, 0.20819804072380066, 3.3906455882970477e-06]\n",
      "inside here\n"
     ]
    },
    {
     "data": {
      "text/html": [
       "<pre style=\"white-space:pre;overflow-x:auto;line-height:normal;font-family:Menlo,'DejaVu Sans Mono',consolas,'Courier New',monospace\">\n",
       "</pre>\n"
      ],
      "text/plain": [
       "\n"
      ]
     },
     "metadata": {},
     "output_type": "display_data"
    },
    {
     "data": {
      "text/html": [
       "<pre style=\"white-space:pre;overflow-x:auto;line-height:normal;font-family:Menlo,'DejaVu Sans Mono',consolas,'Courier New',monospace\">\n",
       "</pre>\n"
      ],
      "text/plain": [
       "\n"
      ]
     },
     "metadata": {},
     "output_type": "display_data"
    },
    {
     "name": "stdout",
     "output_type": "stream",
     "text": [
      "['nan', 'Of course it has a song.', \"Will Smith Joins Diplo And Nicky Jam For The 2018 World Cup's Official Song\"]\n",
      "[0.9551544785499573, 0.04482826218008995, 1.722339220577851e-05]\n",
      "inside here\n"
     ]
    },
    {
     "data": {
      "text/html": [
       "<pre style=\"white-space:pre;overflow-x:auto;line-height:normal;font-family:Menlo,'DejaVu Sans Mono',consolas,'Courier New',monospace\">\n",
       "</pre>\n"
      ],
      "text/plain": [
       "\n"
      ]
     },
     "metadata": {},
     "output_type": "display_data"
    },
    {
     "data": {
      "text/html": [
       "<pre style=\"white-space:pre;overflow-x:auto;line-height:normal;font-family:Menlo,'DejaVu Sans Mono',consolas,'Courier New',monospace\">\n",
       "</pre>\n"
      ],
      "text/plain": [
       "\n"
      ]
     },
     "metadata": {},
     "output_type": "display_data"
    },
    {
     "name": "stdout",
     "output_type": "stream",
     "text": [
      "['nan', 'Of course it has a song.', \"Will Smith Joins Diplo And Nicky Jam For The 2018 World Cup's Official Song\"]\n",
      "[0.6406380534172058, 0.3583564758300781, 0.001005516154691577]\n",
      "inside here\n"
     ]
    },
    {
     "data": {
      "text/html": [
       "<pre style=\"white-space:pre;overflow-x:auto;line-height:normal;font-family:Menlo,'DejaVu Sans Mono',consolas,'Courier New',monospace\">\n",
       "</pre>\n"
      ],
      "text/plain": [
       "\n"
      ]
     },
     "metadata": {},
     "output_type": "display_data"
    },
    {
     "data": {
      "text/html": [
       "<pre style=\"white-space:pre;overflow-x:auto;line-height:normal;font-family:Menlo,'DejaVu Sans Mono',consolas,'Courier New',monospace\">\n",
       "</pre>\n"
      ],
      "text/plain": [
       "\n"
      ]
     },
     "metadata": {},
     "output_type": "display_data"
    },
    {
     "name": "stdout",
     "output_type": "stream",
     "text": [
      "['nan', 'Of course it has a song.', \"Will Smith Joins Diplo And Nicky Jam For The 2018 World Cup's Official Song\"]\n",
      "[0.8317857980728149, 0.14711380004882812, 0.02110043726861477]\n",
      "inside here\n"
     ]
    },
    {
     "data": {
      "text/html": [
       "<pre style=\"white-space:pre;overflow-x:auto;line-height:normal;font-family:Menlo,'DejaVu Sans Mono',consolas,'Courier New',monospace\">\n",
       "</pre>\n"
      ],
      "text/plain": [
       "\n"
      ]
     },
     "metadata": {},
     "output_type": "display_data"
    },
    {
     "data": {
      "text/html": [
       "<pre style=\"white-space:pre;overflow-x:auto;line-height:normal;font-family:Menlo,'DejaVu Sans Mono',consolas,'Courier New',monospace\">\n",
       "</pre>\n"
      ],
      "text/plain": [
       "\n"
      ]
     },
     "metadata": {},
     "output_type": "display_data"
    },
    {
     "name": "stdout",
     "output_type": "stream",
     "text": [
      "['Of course it has a song.', 'nan', \"Will Smith Joins Diplo And Nicky Jam For The 2018 World Cup's Official Song\"]\n",
      "[0.5455529093742371, 0.45444709062576294, 1.2638235347139926e-08]\n",
      "inside here\n"
     ]
    },
    {
     "data": {
      "text/html": [
       "<pre style=\"white-space:pre;overflow-x:auto;line-height:normal;font-family:Menlo,'DejaVu Sans Mono',consolas,'Courier New',monospace\">\n",
       "</pre>\n"
      ],
      "text/plain": [
       "\n"
      ]
     },
     "metadata": {},
     "output_type": "display_data"
    },
    {
     "data": {
      "text/html": [
       "<pre style=\"white-space:pre;overflow-x:auto;line-height:normal;font-family:Menlo,'DejaVu Sans Mono',consolas,'Courier New',monospace\">\n",
       "</pre>\n"
      ],
      "text/plain": [
       "\n"
      ]
     },
     "metadata": {},
     "output_type": "display_data"
    },
    {
     "name": "stdout",
     "output_type": "stream",
     "text": [
      "['nan', 'Of course it has a song.', \"Will Smith Joins Diplo And Nicky Jam For The 2018 World Cup's Official Song\"]\n",
      "[0.8285312652587891, 0.171468585729599, 1.4796421510254731e-07]\n",
      "inside here\n"
     ]
    },
    {
     "data": {
      "text/html": [
       "<pre style=\"white-space:pre;overflow-x:auto;line-height:normal;font-family:Menlo,'DejaVu Sans Mono',consolas,'Courier New',monospace\">\n",
       "</pre>\n"
      ],
      "text/plain": [
       "\n"
      ]
     },
     "metadata": {},
     "output_type": "display_data"
    },
    {
     "data": {
      "text/html": [
       "<pre style=\"white-space:pre;overflow-x:auto;line-height:normal;font-family:Menlo,'DejaVu Sans Mono',consolas,'Courier New',monospace\">\n",
       "</pre>\n"
      ],
      "text/plain": [
       "\n"
      ]
     },
     "metadata": {},
     "output_type": "display_data"
    },
    {
     "name": "stdout",
     "output_type": "stream",
     "text": [
      "['Ron Dicker', 'The actor and his longtime girlfriend Anna Eberstein tied the knot in a civil ceremony.', 'Hugh Grant Marries For The First Time At Age 57']\n",
      "[0.8162237405776978, 0.18372277915477753, 5.3480722272070125e-05]\n",
      "inside here\n"
     ]
    },
    {
     "data": {
      "text/html": [
       "<pre style=\"white-space:pre;overflow-x:auto;line-height:normal;font-family:Menlo,'DejaVu Sans Mono',consolas,'Courier New',monospace\">\n",
       "</pre>\n"
      ],
      "text/plain": [
       "\n"
      ]
     },
     "metadata": {},
     "output_type": "display_data"
    },
    {
     "data": {
      "text/html": [
       "<pre style=\"white-space:pre;overflow-x:auto;line-height:normal;font-family:Menlo,'DejaVu Sans Mono',consolas,'Courier New',monospace\">\n",
       "</pre>\n"
      ],
      "text/plain": [
       "\n"
      ]
     },
     "metadata": {},
     "output_type": "display_data"
    },
    {
     "name": "stdout",
     "output_type": "stream",
     "text": [
      "['The actor and his longtime girlfriend Anna Eberstein tied the knot in a civil ceremony.', 'Hugh Grant Marries For The First Time At Age 57', 'nan']\n",
      "[0.9966921806335449, 0.0016880290349945426, 0.0016197646036744118]\n",
      "inside here\n"
     ]
    },
    {
     "data": {
      "text/html": [
       "<pre style=\"white-space:pre;overflow-x:auto;line-height:normal;font-family:Menlo,'DejaVu Sans Mono',consolas,'Courier New',monospace\">\n",
       "</pre>\n"
      ],
      "text/plain": [
       "\n"
      ]
     },
     "metadata": {},
     "output_type": "display_data"
    },
    {
     "data": {
      "text/html": [
       "<pre style=\"white-space:pre;overflow-x:auto;line-height:normal;font-family:Menlo,'DejaVu Sans Mono',consolas,'Courier New',monospace\">\n",
       "</pre>\n"
      ],
      "text/plain": [
       "\n"
      ]
     },
     "metadata": {},
     "output_type": "display_data"
    },
    {
     "name": "stdout",
     "output_type": "stream",
     "text": [
      "['nan', 'The actor and his longtime girlfriend Anna Eberstein tied the knot in a civil ceremony.', 'Hugh Grant Marries For The First Time At Age 57']\n",
      "[0.6359313726425171, 0.34229910373687744, 0.021769467741250992]\n",
      "inside here\n"
     ]
    },
    {
     "data": {
      "text/html": [
       "<pre style=\"white-space:pre;overflow-x:auto;line-height:normal;font-family:Menlo,'DejaVu Sans Mono',consolas,'Courier New',monospace\">\n",
       "</pre>\n"
      ],
      "text/plain": [
       "\n"
      ]
     },
     "metadata": {},
     "output_type": "display_data"
    },
    {
     "data": {
      "text/html": [
       "<pre style=\"white-space:pre;overflow-x:auto;line-height:normal;font-family:Menlo,'DejaVu Sans Mono',consolas,'Courier New',monospace\">\n",
       "</pre>\n"
      ],
      "text/plain": [
       "\n"
      ]
     },
     "metadata": {},
     "output_type": "display_data"
    },
    {
     "name": "stdout",
     "output_type": "stream",
     "text": [
      "['nan', 'The actor and his longtime girlfriend Anna Eberstein tied the knot in a civil ceremony.', 'Hugh Grant Marries For The First Time At Age 57']\n",
      "[0.9666673541069031, 0.026816504076123238, 0.0065160999074578285]\n",
      "inside here\n"
     ]
    },
    {
     "data": {
      "text/html": [
       "<pre style=\"white-space:pre;overflow-x:auto;line-height:normal;font-family:Menlo,'DejaVu Sans Mono',consolas,'Courier New',monospace\">\n",
       "</pre>\n"
      ],
      "text/plain": [
       "\n"
      ]
     },
     "metadata": {},
     "output_type": "display_data"
    },
    {
     "data": {
      "text/html": [
       "<pre style=\"white-space:pre;overflow-x:auto;line-height:normal;font-family:Menlo,'DejaVu Sans Mono',consolas,'Courier New',monospace\">\n",
       "</pre>\n"
      ],
      "text/plain": [
       "\n"
      ]
     },
     "metadata": {},
     "output_type": "display_data"
    },
    {
     "name": "stdout",
     "output_type": "stream",
     "text": [
      "['The actor and his longtime girlfriend Anna Eberstein tied the knot in a civil ceremony.', 'nan', 'Hugh Grant Marries For The First Time At Age 57']\n",
      "[0.9786267280578613, 0.017126835882663727, 0.004246448166668415]\n",
      "inside here\n"
     ]
    },
    {
     "data": {
      "text/html": [
       "<pre style=\"white-space:pre;overflow-x:auto;line-height:normal;font-family:Menlo,'DejaVu Sans Mono',consolas,'Courier New',monospace\">\n",
       "</pre>\n"
      ],
      "text/plain": [
       "\n"
      ]
     },
     "metadata": {},
     "output_type": "display_data"
    },
    {
     "data": {
      "text/html": [
       "<pre style=\"white-space:pre;overflow-x:auto;line-height:normal;font-family:Menlo,'DejaVu Sans Mono',consolas,'Courier New',monospace\">\n",
       "</pre>\n"
      ],
      "text/plain": [
       "\n"
      ]
     },
     "metadata": {},
     "output_type": "display_data"
    },
    {
     "name": "stdout",
     "output_type": "stream",
     "text": [
      "['Ron Dicker - General Assignment Reporter, HuffPost', 'The actor and his longtime girlfriend Anna Eberstein tied the knot in a civil ceremony.', 'Hugh Grant Marries For The First Time At Age 57']\n",
      "[0.997596800327301, 0.00240252329967916, 6.993618626438547e-07]\n",
      "inside here\n"
     ]
    },
    {
     "data": {
      "text/html": [
       "<pre style=\"white-space:pre;overflow-x:auto;line-height:normal;font-family:Menlo,'DejaVu Sans Mono',consolas,'Courier New',monospace\">\n",
       "</pre>\n"
      ],
      "text/plain": [
       "\n"
      ]
     },
     "metadata": {},
     "output_type": "display_data"
    },
    {
     "data": {
      "text/html": [
       "<pre style=\"white-space:pre;overflow-x:auto;line-height:normal;font-family:Menlo,'DejaVu Sans Mono',consolas,'Courier New',monospace\">\n",
       "</pre>\n"
      ],
      "text/plain": [
       "\n"
      ]
     },
     "metadata": {},
     "output_type": "display_data"
    },
    {
     "name": "stdout",
     "output_type": "stream",
     "text": [
      "['The actor and his longtime girlfriend Anna Eberstein tied the knot in a civil ceremony.', 'nan', 'Hugh Grant Marries For The First Time At Age 57']\n",
      "[0.6751856803894043, 0.2561132609844208, 0.06870099902153015]\n",
      "inside here\n"
     ]
    },
    {
     "data": {
      "text/html": [
       "<pre style=\"white-space:pre;overflow-x:auto;line-height:normal;font-family:Menlo,'DejaVu Sans Mono',consolas,'Courier New',monospace\">\n",
       "</pre>\n"
      ],
      "text/plain": [
       "\n"
      ]
     },
     "metadata": {},
     "output_type": "display_data"
    },
    {
     "data": {
      "text/html": [
       "<pre style=\"white-space:pre;overflow-x:auto;line-height:normal;font-family:Menlo,'DejaVu Sans Mono',consolas,'Courier New',monospace\">\n",
       "</pre>\n"
      ],
      "text/plain": [
       "\n"
      ]
     },
     "metadata": {},
     "output_type": "display_data"
    },
    {
     "name": "stdout",
     "output_type": "stream",
     "text": [
      "['The actor and his longtime girlfriend Anna Eberstein tied the knot in a civil ceremony.', 'nan', 'Hugh Grant Marries For The First Time At Age 57']\n",
      "[0.8093357682228088, 0.17325018346309662, 0.01741412654519081]\n",
      "inside here\n"
     ]
    },
    {
     "data": {
      "text/html": [
       "<pre style=\"white-space:pre;overflow-x:auto;line-height:normal;font-family:Menlo,'DejaVu Sans Mono',consolas,'Courier New',monospace\">\n",
       "</pre>\n"
      ],
      "text/plain": [
       "\n"
      ]
     },
     "metadata": {},
     "output_type": "display_data"
    },
    {
     "data": {
      "text/html": [
       "<pre style=\"white-space:pre;overflow-x:auto;line-height:normal;font-family:Menlo,'DejaVu Sans Mono',consolas,'Courier New',monospace\">\n",
       "</pre>\n"
      ],
      "text/plain": [
       "\n"
      ]
     },
     "metadata": {},
     "output_type": "display_data"
    },
    {
     "name": "stdout",
     "output_type": "stream",
     "text": [
      "['The actor and his longtime girlfriend Anna Eberstein tied the knot in a civil ceremony.', 'nan', 'Hugh Grant Marries For The First Time At Age 57']\n",
      "[0.8094724416732788, 0.18417374789714813, 0.0063538337126374245]\n",
      "inside here\n"
     ]
    },
    {
     "data": {
      "text/html": [
       "<pre style=\"white-space:pre;overflow-x:auto;line-height:normal;font-family:Menlo,'DejaVu Sans Mono',consolas,'Courier New',monospace\">\n",
       "</pre>\n"
      ],
      "text/plain": [
       "\n"
      ]
     },
     "metadata": {},
     "output_type": "display_data"
    },
    {
     "data": {
      "text/html": [
       "<pre style=\"white-space:pre;overflow-x:auto;line-height:normal;font-family:Menlo,'DejaVu Sans Mono',consolas,'Courier New',monospace\">\n",
       "</pre>\n"
      ],
      "text/plain": [
       "\n"
      ]
     },
     "metadata": {},
     "output_type": "display_data"
    },
    {
     "name": "stdout",
     "output_type": "stream",
     "text": [
      "['The actor and his longtime girlfriend Anna Eberstein tied the knot in a civil ceremony.', 'nan', 'Hugh Grant Marries For The First Time At Age 57']\n",
      "[0.7368611693382263, 0.24707050621509552, 0.016068316996097565]\n",
      "inside here\n"
     ]
    },
    {
     "data": {
      "text/html": [
       "<pre style=\"white-space:pre;overflow-x:auto;line-height:normal;font-family:Menlo,'DejaVu Sans Mono',consolas,'Courier New',monospace\">\n",
       "</pre>\n"
      ],
      "text/plain": [
       "\n"
      ]
     },
     "metadata": {},
     "output_type": "display_data"
    },
    {
     "data": {
      "text/html": [
       "<pre style=\"white-space:pre;overflow-x:auto;line-height:normal;font-family:Menlo,'DejaVu Sans Mono',consolas,'Courier New',monospace\">\n",
       "</pre>\n"
      ],
      "text/plain": [
       "\n"
      ]
     },
     "metadata": {},
     "output_type": "display_data"
    },
    {
     "name": "stdout",
     "output_type": "stream",
     "text": [
      "['Ron Dicker', 'The actor gives Dems an ass-kicking for not fighting hard enough against Donald Trump.', \"Jim Carrey Blasts 'Castrato' Adam Schiff And Democrats In New Artwork\"]\n",
      "[0.7440040111541748, 0.25192803144454956, 0.004067969974130392]\n",
      "inside here\n"
     ]
    },
    {
     "data": {
      "text/html": [
       "<pre style=\"white-space:pre;overflow-x:auto;line-height:normal;font-family:Menlo,'DejaVu Sans Mono',consolas,'Courier New',monospace\">\n",
       "</pre>\n"
      ],
      "text/plain": [
       "\n"
      ]
     },
     "metadata": {},
     "output_type": "display_data"
    },
    {
     "data": {
      "text/html": [
       "<pre style=\"white-space:pre;overflow-x:auto;line-height:normal;font-family:Menlo,'DejaVu Sans Mono',consolas,'Courier New',monospace\">\n",
       "</pre>\n"
      ],
      "text/plain": [
       "\n"
      ]
     },
     "metadata": {},
     "output_type": "display_data"
    },
    {
     "name": "stdout",
     "output_type": "stream",
     "text": [
      "['Adam Schiff just got his butt kicked by a Jim Carrey painting.', \"Jim Carrey Blasts 'Castrato' Adam Schiff And Democrats In New Artwork\", 'The actor gives Dems an ass-kicking for not fighting hard enough against Donald Trump.']\n",
      "[0.9285507202148438, 0.06876880675554276, 0.0026804839726537466]\n",
      "inside here\n"
     ]
    },
    {
     "data": {
      "text/html": [
       "<pre style=\"white-space:pre;overflow-x:auto;line-height:normal;font-family:Menlo,'DejaVu Sans Mono',consolas,'Courier New',monospace\">\n",
       "</pre>\n"
      ],
      "text/plain": [
       "\n"
      ]
     },
     "metadata": {},
     "output_type": "display_data"
    },
    {
     "data": {
      "text/html": [
       "<pre style=\"white-space:pre;overflow-x:auto;line-height:normal;font-family:Menlo,'DejaVu Sans Mono',consolas,'Courier New',monospace\">\n",
       "</pre>\n"
      ],
      "text/plain": [
       "\n"
      ]
     },
     "metadata": {},
     "output_type": "display_data"
    },
    {
     "name": "stdout",
     "output_type": "stream",
     "text": [
      "[\"Jim Carrey Blasts 'Castrato' Adam Schiff And Democrats In New Artwork\", 'The actor gives Dems an ass-kicking for not fighting hard enough against Donald Trump.', 'nan']\n",
      "[0.977046549320221, 0.017309818416833878, 0.005643639713525772]\n",
      "inside here\n"
     ]
    },
    {
     "data": {
      "text/html": [
       "<pre style=\"white-space:pre;overflow-x:auto;line-height:normal;font-family:Menlo,'DejaVu Sans Mono',consolas,'Courier New',monospace\">\n",
       "</pre>\n"
      ],
      "text/plain": [
       "\n"
      ]
     },
     "metadata": {},
     "output_type": "display_data"
    },
    {
     "data": {
      "text/html": [
       "<pre style=\"white-space:pre;overflow-x:auto;line-height:normal;font-family:Menlo,'DejaVu Sans Mono',consolas,'Courier New',monospace\">\n",
       "</pre>\n"
      ],
      "text/plain": [
       "\n"
      ]
     },
     "metadata": {},
     "output_type": "display_data"
    },
    {
     "name": "stdout",
     "output_type": "stream",
     "text": [
      "['Ron Dicker - General Assignment Reporter, HuffPost', 'The actor gives Dems an ass-kicking for not fighting hard enough against Donald Trump.', \"Jim Carrey Blasts 'Castrato' Adam Schiff And Democrats In New Artwork\"]\n",
      "[0.9963321089744568, 0.0036096423864364624, 5.828615030623041e-05]\n",
      "inside here\n"
     ]
    },
    {
     "data": {
      "text/html": [
       "<pre style=\"white-space:pre;overflow-x:auto;line-height:normal;font-family:Menlo,'DejaVu Sans Mono',consolas,'Courier New',monospace\">\n",
       "</pre>\n"
      ],
      "text/plain": [
       "\n"
      ]
     },
     "metadata": {},
     "output_type": "display_data"
    },
    {
     "data": {
      "text/html": [
       "<pre style=\"white-space:pre;overflow-x:auto;line-height:normal;font-family:Menlo,'DejaVu Sans Mono',consolas,'Courier New',monospace\">\n",
       "</pre>\n"
      ],
      "text/plain": [
       "\n"
      ]
     },
     "metadata": {},
     "output_type": "display_data"
    },
    {
     "name": "stdout",
     "output_type": "stream",
     "text": [
      "['The actor gives Dems an ass-kicking for not fighting hard enough against Donald Trump.', 'nan', \"Jim Carrey Blasts 'Castrato' Adam Schiff And Democrats In New Artwork\"]\n",
      "[0.9074571132659912, 0.06680759787559509, 0.025735262781381607]\n",
      "inside here\n"
     ]
    },
    {
     "data": {
      "text/html": [
       "<pre style=\"white-space:pre;overflow-x:auto;line-height:normal;font-family:Menlo,'DejaVu Sans Mono',consolas,'Courier New',monospace\">\n",
       "</pre>\n"
      ],
      "text/plain": [
       "\n"
      ]
     },
     "metadata": {},
     "output_type": "display_data"
    },
    {
     "data": {
      "text/html": [
       "<pre style=\"white-space:pre;overflow-x:auto;line-height:normal;font-family:Menlo,'DejaVu Sans Mono',consolas,'Courier New',monospace\">\n",
       "</pre>\n"
      ],
      "text/plain": [
       "\n"
      ]
     },
     "metadata": {},
     "output_type": "display_data"
    },
    {
     "name": "stdout",
     "output_type": "stream",
     "text": [
      "['The actor gives Dems an ass-kicking for not fighting hard enough against Donald Trump.', \"Jim Carrey Blasts 'Castrato' Adam Schiff And Democrats In New Artwork\", 'nan']\n",
      "[0.6023411154747009, 0.36026063561439514, 0.037398334592580795]\n",
      "inside here\n"
     ]
    },
    {
     "data": {
      "text/html": [
       "<pre style=\"white-space:pre;overflow-x:auto;line-height:normal;font-family:Menlo,'DejaVu Sans Mono',consolas,'Courier New',monospace\">\n",
       "</pre>\n"
      ],
      "text/plain": [
       "\n"
      ]
     },
     "metadata": {},
     "output_type": "display_data"
    },
    {
     "data": {
      "text/html": [
       "<pre style=\"white-space:pre;overflow-x:auto;line-height:normal;font-family:Menlo,'DejaVu Sans Mono',consolas,'Courier New',monospace\">\n",
       "</pre>\n"
      ],
      "text/plain": [
       "\n"
      ]
     },
     "metadata": {},
     "output_type": "display_data"
    },
    {
     "name": "stdout",
     "output_type": "stream",
     "text": [
      "['The actor gives Dems an ass-kicking for not fighting hard enough against Donald Trump.', 'nan', \"Jim Carrey Blasts 'Castrato' Adam Schiff And Democrats In New Artwork\"]\n",
      "[0.909807026386261, 0.07164305448532104, 0.018549920991063118]\n",
      "inside here\n"
     ]
    },
    {
     "data": {
      "text/html": [
       "<pre style=\"white-space:pre;overflow-x:auto;line-height:normal;font-family:Menlo,'DejaVu Sans Mono',consolas,'Courier New',monospace\">\n",
       "</pre>\n"
      ],
      "text/plain": [
       "\n"
      ]
     },
     "metadata": {},
     "output_type": "display_data"
    },
    {
     "data": {
      "text/html": [
       "<pre style=\"white-space:pre;overflow-x:auto;line-height:normal;font-family:Menlo,'DejaVu Sans Mono',consolas,'Courier New',monospace\">\n",
       "</pre>\n"
      ],
      "text/plain": [
       "\n"
      ]
     },
     "metadata": {},
     "output_type": "display_data"
    },
    {
     "name": "stdout",
     "output_type": "stream",
     "text": [
      "['The actor gives Dems an ass-kicking for not fighting hard enough against Donald Trump.', \"Jim Carrey Blasts 'Castrato' Adam Schiff And Democrats In New Artwork\", 'nan']\n",
      "[0.9716569781303406, 0.026314344257116318, 0.002028699265792966]\n",
      "inside here\n"
     ]
    },
    {
     "data": {
      "text/html": [
       "<pre style=\"white-space:pre;overflow-x:auto;line-height:normal;font-family:Menlo,'DejaVu Sans Mono',consolas,'Courier New',monospace\">\n",
       "</pre>\n"
      ],
      "text/plain": [
       "\n"
      ]
     },
     "metadata": {},
     "output_type": "display_data"
    },
    {
     "data": {
      "text/html": [
       "<pre style=\"white-space:pre;overflow-x:auto;line-height:normal;font-family:Menlo,'DejaVu Sans Mono',consolas,'Courier New',monospace\">\n",
       "</pre>\n"
      ],
      "text/plain": [
       "\n"
      ]
     },
     "metadata": {},
     "output_type": "display_data"
    },
    {
     "name": "stdout",
     "output_type": "stream",
     "text": [
      "['The actor gives Dems an ass-kicking for not fighting hard enough against Donald Trump.', 'nan', \"Jim Carrey Blasts 'Castrato' Adam Schiff And Democrats In New Artwork\"]\n",
      "[0.8100312352180481, 0.15967872738838196, 0.030290067195892334]\n",
      "inside here\n"
     ]
    },
    {
     "data": {
      "text/html": [
       "<pre style=\"white-space:pre;overflow-x:auto;line-height:normal;font-family:Menlo,'DejaVu Sans Mono',consolas,'Courier New',monospace\">\n",
       "</pre>\n"
      ],
      "text/plain": [
       "\n"
      ]
     },
     "metadata": {},
     "output_type": "display_data"
    },
    {
     "data": {
      "text/html": [
       "<pre style=\"white-space:pre;overflow-x:auto;line-height:normal;font-family:Menlo,'DejaVu Sans Mono',consolas,'Courier New',monospace\">\n",
       "</pre>\n"
      ],
      "text/plain": [
       "\n"
      ]
     },
     "metadata": {},
     "output_type": "display_data"
    },
    {
     "name": "stdout",
     "output_type": "stream",
     "text": [
      "['The actor gives Dems an ass-kicking for not fighting hard enough against Donald Trump.', 'nan', \"Jim Carrey Blasts 'Castrato' Adam Schiff And Democrats In New Artwork\"]\n",
      "[0.962112307548523, 0.03702259808778763, 0.0008651572861708701]\n",
      "inside here\n"
     ]
    },
    {
     "data": {
      "text/html": [
       "<pre style=\"white-space:pre;overflow-x:auto;line-height:normal;font-family:Menlo,'DejaVu Sans Mono',consolas,'Courier New',monospace\">\n",
       "</pre>\n"
      ],
      "text/plain": [
       "\n"
      ]
     },
     "metadata": {},
     "output_type": "display_data"
    },
    {
     "data": {
      "text/html": [
       "<pre style=\"white-space:pre;overflow-x:auto;line-height:normal;font-family:Menlo,'DejaVu Sans Mono',consolas,'Courier New',monospace\">\n",
       "</pre>\n"
      ],
      "text/plain": [
       "\n"
      ]
     },
     "metadata": {},
     "output_type": "display_data"
    },
    {
     "name": "stdout",
     "output_type": "stream",
     "text": [
      "['Ron Dicker', 'Julianna Margulies Uses Donald Trump Poop Bags To Pick Up After Her Dog', 'The \"Dietland\" actress said using the bags is a \"really cathartic, therapeutic moment.\"']\n",
      "[0.9932314157485962, 0.0052102310582995415, 0.0015583167551085353]\n",
      "inside here\n"
     ]
    },
    {
     "data": {
      "text/html": [
       "<pre style=\"white-space:pre;overflow-x:auto;line-height:normal;font-family:Menlo,'DejaVu Sans Mono',consolas,'Courier New',monospace\">\n",
       "</pre>\n"
      ],
      "text/plain": [
       "\n"
      ]
     },
     "metadata": {},
     "output_type": "display_data"
    },
    {
     "data": {
      "text/html": [
       "<pre style=\"white-space:pre;overflow-x:auto;line-height:normal;font-family:Menlo,'DejaVu Sans Mono',consolas,'Courier New',monospace\">\n",
       "</pre>\n"
      ],
      "text/plain": [
       "\n"
      ]
     },
     "metadata": {},
     "output_type": "display_data"
    },
    {
     "name": "stdout",
     "output_type": "stream",
     "text": [
      "['The \"Dietland\" actress said using the bags is a \"really cathartic, therapeutic moment.\"', 'nan', 'Julianna Margulies Uses Donald Trump Poop Bags To Pick Up After Her Dog']\n",
      "[0.9901542067527771, 0.00983341969549656, 1.2408439943101257e-05]\n",
      "inside here\n"
     ]
    },
    {
     "data": {
      "text/html": [
       "<pre style=\"white-space:pre;overflow-x:auto;line-height:normal;font-family:Menlo,'DejaVu Sans Mono',consolas,'Courier New',monospace\">\n",
       "</pre>\n"
      ],
      "text/plain": [
       "\n"
      ]
     },
     "metadata": {},
     "output_type": "display_data"
    },
    {
     "data": {
      "text/html": [
       "<pre style=\"white-space:pre;overflow-x:auto;line-height:normal;font-family:Menlo,'DejaVu Sans Mono',consolas,'Courier New',monospace\">\n",
       "</pre>\n"
      ],
      "text/plain": [
       "\n"
      ]
     },
     "metadata": {},
     "output_type": "display_data"
    },
    {
     "name": "stdout",
     "output_type": "stream",
     "text": [
      "['nan', 'The \"Dietland\" actress said using the bags is a \"really cathartic, therapeutic moment.\"', 'Julianna Margulies Uses Donald Trump Poop Bags To Pick Up After Her Dog']\n",
      "[0.8343221545219421, 0.16567707061767578, 7.999482818377146e-07]\n",
      "inside here\n"
     ]
    },
    {
     "data": {
      "text/html": [
       "<pre style=\"white-space:pre;overflow-x:auto;line-height:normal;font-family:Menlo,'DejaVu Sans Mono',consolas,'Courier New',monospace\">\n",
       "</pre>\n"
      ],
      "text/plain": [
       "\n"
      ]
     },
     "metadata": {},
     "output_type": "display_data"
    },
    {
     "data": {
      "text/html": [
       "<pre style=\"white-space:pre;overflow-x:auto;line-height:normal;font-family:Menlo,'DejaVu Sans Mono',consolas,'Courier New',monospace\">\n",
       "</pre>\n"
      ],
      "text/plain": [
       "\n"
      ]
     },
     "metadata": {},
     "output_type": "display_data"
    },
    {
     "name": "stdout",
     "output_type": "stream",
     "text": [
      "['nan', 'The \"Dietland\" actress said using the bags is a \"really cathartic, therapeutic moment.\"', 'Julianna Margulies Uses Donald Trump Poop Bags To Pick Up After Her Dog']\n",
      "[0.7182706594467163, 0.281593382358551, 0.00013595327618531883]\n",
      "inside here\n"
     ]
    },
    {
     "data": {
      "text/html": [
       "<pre style=\"white-space:pre;overflow-x:auto;line-height:normal;font-family:Menlo,'DejaVu Sans Mono',consolas,'Courier New',monospace\">\n",
       "</pre>\n"
      ],
      "text/plain": [
       "\n"
      ]
     },
     "metadata": {},
     "output_type": "display_data"
    },
    {
     "data": {
      "text/html": [
       "<pre style=\"white-space:pre;overflow-x:auto;line-height:normal;font-family:Menlo,'DejaVu Sans Mono',consolas,'Courier New',monospace\">\n",
       "</pre>\n"
      ],
      "text/plain": [
       "\n"
      ]
     },
     "metadata": {},
     "output_type": "display_data"
    },
    {
     "name": "stdout",
     "output_type": "stream",
     "text": [
      "['nan', 'The \"Dietland\" actress said using the bags is a \"really cathartic, therapeutic moment.\"', 'Julianna Margulies Uses Donald Trump Poop Bags To Pick Up After Her Dog']\n",
      "[0.8585948944091797, 0.1320689618587494, 0.009336069226264954]\n",
      "inside here\n"
     ]
    },
    {
     "data": {
      "text/html": [
       "<pre style=\"white-space:pre;overflow-x:auto;line-height:normal;font-family:Menlo,'DejaVu Sans Mono',consolas,'Courier New',monospace\">\n",
       "</pre>\n"
      ],
      "text/plain": [
       "\n"
      ]
     },
     "metadata": {},
     "output_type": "display_data"
    },
    {
     "data": {
      "text/html": [
       "<pre style=\"white-space:pre;overflow-x:auto;line-height:normal;font-family:Menlo,'DejaVu Sans Mono',consolas,'Courier New',monospace\">\n",
       "</pre>\n"
      ],
      "text/plain": [
       "\n"
      ]
     },
     "metadata": {},
     "output_type": "display_data"
    },
    {
     "name": "stdout",
     "output_type": "stream",
     "text": [
      "['Ron Dicker - General Assignment Reporter, HuffPost', 'Julianna Margulies Uses Donald Trump Poop Bags To Pick Up After Her Dog', 'The \"Dietland\" actress said using the bags is a \"really cathartic, therapeutic moment.\"']\n",
      "[0.9999270439147949, 5.612206587102264e-05, 1.6785428670118563e-05]\n",
      "inside here\n"
     ]
    },
    {
     "data": {
      "text/html": [
       "<pre style=\"white-space:pre;overflow-x:auto;line-height:normal;font-family:Menlo,'DejaVu Sans Mono',consolas,'Courier New',monospace\">\n",
       "</pre>\n"
      ],
      "text/plain": [
       "\n"
      ]
     },
     "metadata": {},
     "output_type": "display_data"
    },
    {
     "data": {
      "text/html": [
       "<pre style=\"white-space:pre;overflow-x:auto;line-height:normal;font-family:Menlo,'DejaVu Sans Mono',consolas,'Courier New',monospace\">\n",
       "</pre>\n"
      ],
      "text/plain": [
       "\n"
      ]
     },
     "metadata": {},
     "output_type": "display_data"
    },
    {
     "name": "stdout",
     "output_type": "stream",
     "text": [
      "['Julianna Margulies Uses Donald Trump Poop Bags To Pick Up After Her Dog', 'nan', 'The \"Dietland\" actress said using the bags is a \"really cathartic, therapeutic moment.\"']\n",
      "[0.5328654050827026, 0.42541953921318054, 0.04171504080295563]\n",
      "inside here\n"
     ]
    },
    {
     "data": {
      "text/html": [
       "<pre style=\"white-space:pre;overflow-x:auto;line-height:normal;font-family:Menlo,'DejaVu Sans Mono',consolas,'Courier New',monospace\">\n",
       "</pre>\n"
      ],
      "text/plain": [
       "\n"
      ]
     },
     "metadata": {},
     "output_type": "display_data"
    },
    {
     "data": {
      "text/html": [
       "<pre style=\"white-space:pre;overflow-x:auto;line-height:normal;font-family:Menlo,'DejaVu Sans Mono',consolas,'Courier New',monospace\">\n",
       "</pre>\n"
      ],
      "text/plain": [
       "\n"
      ]
     },
     "metadata": {},
     "output_type": "display_data"
    },
    {
     "name": "stdout",
     "output_type": "stream",
     "text": [
      "['Julianna Margulies Uses Donald Trump Poop Bags To Pick Up After Her Dog', 'The \"Dietland\" actress said using the bags is a \"really cathartic, therapeutic moment.\"', 'nan']\n",
      "[0.43569135665893555, 0.33435383439064026, 0.2299547642469406]\n",
      "inside here\n"
     ]
    },
    {
     "data": {
      "text/html": [
       "<pre style=\"white-space:pre;overflow-x:auto;line-height:normal;font-family:Menlo,'DejaVu Sans Mono',consolas,'Courier New',monospace\">\n",
       "</pre>\n"
      ],
      "text/plain": [
       "\n"
      ]
     },
     "metadata": {},
     "output_type": "display_data"
    },
    {
     "data": {
      "text/html": [
       "<pre style=\"white-space:pre;overflow-x:auto;line-height:normal;font-family:Menlo,'DejaVu Sans Mono',consolas,'Courier New',monospace\">\n",
       "</pre>\n"
      ],
      "text/plain": [
       "\n"
      ]
     },
     "metadata": {},
     "output_type": "display_data"
    },
    {
     "name": "stdout",
     "output_type": "stream",
     "text": [
      "['The \"Dietland\" actress said using the bags is a \"really cathartic, therapeutic moment.\"', 'Julianna Margulies Uses Donald Trump Poop Bags To Pick Up After Her Dog', 'nan']\n",
      "[0.5141576528549194, 0.4235246777534485, 0.062317680567502975]\n",
      "inside here\n"
     ]
    },
    {
     "data": {
      "text/html": [
       "<pre style=\"white-space:pre;overflow-x:auto;line-height:normal;font-family:Menlo,'DejaVu Sans Mono',consolas,'Courier New',monospace\">\n",
       "</pre>\n"
      ],
      "text/plain": [
       "\n"
      ]
     },
     "metadata": {},
     "output_type": "display_data"
    },
    {
     "data": {
      "text/html": [
       "<pre style=\"white-space:pre;overflow-x:auto;line-height:normal;font-family:Menlo,'DejaVu Sans Mono',consolas,'Courier New',monospace\">\n",
       "</pre>\n"
      ],
      "text/plain": [
       "\n"
      ]
     },
     "metadata": {},
     "output_type": "display_data"
    },
    {
     "name": "stdout",
     "output_type": "stream",
     "text": [
      "['Julianna Margulies Uses Donald Trump Poop Bags To Pick Up After Her Dog', 'nan', 'The \"Dietland\" actress said using the bags is a \"really cathartic, therapeutic moment.\"']\n",
      "[0.996691107749939, 0.001928534242324531, 0.0013803817564621568]\n",
      "inside here\n"
     ]
    },
    {
     "data": {
      "text/html": [
       "<pre style=\"white-space:pre;overflow-x:auto;line-height:normal;font-family:Menlo,'DejaVu Sans Mono',consolas,'Courier New',monospace\">\n",
       "</pre>\n"
      ],
      "text/plain": [
       "\n"
      ]
     },
     "metadata": {},
     "output_type": "display_data"
    },
    {
     "data": {
      "text/html": [
       "<pre style=\"white-space:pre;overflow-x:auto;line-height:normal;font-family:Menlo,'DejaVu Sans Mono',consolas,'Courier New',monospace\">\n",
       "</pre>\n"
      ],
      "text/plain": [
       "\n"
      ]
     },
     "metadata": {},
     "output_type": "display_data"
    },
    {
     "name": "stdout",
     "output_type": "stream",
     "text": [
      "['Ron Dicker', '\"It is not right to equate horrific incidents of sexual assault with misplaced compliments or humor,\" he said in a statement.', \"Morgan Freeman 'Devastated' That Sexual Harassment Claims Could Undermine Legacy\"]\n",
      "[0.8451164364814758, 0.15467138588428497, 0.0002122013975167647]\n",
      "inside here\n"
     ]
    },
    {
     "data": {
      "text/html": [
       "<pre style=\"white-space:pre;overflow-x:auto;line-height:normal;font-family:Menlo,'DejaVu Sans Mono',consolas,'Courier New',monospace\">\n",
       "</pre>\n"
      ],
      "text/plain": [
       "\n"
      ]
     },
     "metadata": {},
     "output_type": "display_data"
    },
    {
     "data": {
      "text/html": [
       "<pre style=\"white-space:pre;overflow-x:auto;line-height:normal;font-family:Menlo,'DejaVu Sans Mono',consolas,'Courier New',monospace\">\n",
       "</pre>\n"
      ],
      "text/plain": [
       "\n"
      ]
     },
     "metadata": {},
     "output_type": "display_data"
    },
    {
     "name": "stdout",
     "output_type": "stream",
     "text": [
      "[\"Morgan Freeman 'Devastated' That Sexual Harassment Claims Could Undermine Legacy\", 'Morgan Freeman has been accused of sexual harassment by several women.', '\"It is not right to equate horrific incidents of sexual assault with misplaced compliments or humor,\" he said in a statement.']\n",
      "[0.6347591280937195, 0.36520326137542725, 3.762193227885291e-05]\n",
      "inside here\n"
     ]
    },
    {
     "data": {
      "text/html": [
       "<pre style=\"white-space:pre;overflow-x:auto;line-height:normal;font-family:Menlo,'DejaVu Sans Mono',consolas,'Courier New',monospace\">\n",
       "</pre>\n"
      ],
      "text/plain": [
       "\n"
      ]
     },
     "metadata": {},
     "output_type": "display_data"
    },
    {
     "data": {
      "text/html": [
       "<pre style=\"white-space:pre;overflow-x:auto;line-height:normal;font-family:Menlo,'DejaVu Sans Mono',consolas,'Courier New',monospace\">\n",
       "</pre>\n"
      ],
      "text/plain": [
       "\n"
      ]
     },
     "metadata": {},
     "output_type": "display_data"
    },
    {
     "name": "stdout",
     "output_type": "stream",
     "text": [
      "['nan', '\"It is not right to equate horrific incidents of sexual assault with misplaced compliments or humor,\" he said in a statement.', \"Morgan Freeman 'Devastated' That Sexual Harassment Claims Could Undermine Legacy\"]\n",
      "[0.5540352463722229, 0.42573198676109314, 0.020232781767845154]\n",
      "inside here\n"
     ]
    },
    {
     "data": {
      "text/html": [
       "<pre style=\"white-space:pre;overflow-x:auto;line-height:normal;font-family:Menlo,'DejaVu Sans Mono',consolas,'Courier New',monospace\">\n",
       "</pre>\n"
      ],
      "text/plain": [
       "\n"
      ]
     },
     "metadata": {},
     "output_type": "display_data"
    },
    {
     "data": {
      "text/html": [
       "<pre style=\"white-space:pre;overflow-x:auto;line-height:normal;font-family:Menlo,'DejaVu Sans Mono',consolas,'Courier New',monospace\">\n",
       "</pre>\n"
      ],
      "text/plain": [
       "\n"
      ]
     },
     "metadata": {},
     "output_type": "display_data"
    },
    {
     "name": "stdout",
     "output_type": "stream",
     "text": [
      "['Ron Dicker - General Assignment Reporter, HuffPost', '\"It is not right to equate horrific incidents of sexual assault with misplaced compliments or humor,\" he said in a statement.', \"Morgan Freeman 'Devastated' That Sexual Harassment Claims Could Undermine Legacy\"]\n",
      "[0.9980429410934448, 0.0019543461967259645, 2.6812651867658133e-06]\n",
      "inside here\n"
     ]
    },
    {
     "data": {
      "text/html": [
       "<pre style=\"white-space:pre;overflow-x:auto;line-height:normal;font-family:Menlo,'DejaVu Sans Mono',consolas,'Courier New',monospace\">\n",
       "</pre>\n"
      ],
      "text/plain": [
       "\n"
      ]
     },
     "metadata": {},
     "output_type": "display_data"
    },
    {
     "data": {
      "text/html": [
       "<pre style=\"white-space:pre;overflow-x:auto;line-height:normal;font-family:Menlo,'DejaVu Sans Mono',consolas,'Courier New',monospace\">\n",
       "</pre>\n"
      ],
      "text/plain": [
       "\n"
      ]
     },
     "metadata": {},
     "output_type": "display_data"
    },
    {
     "name": "stdout",
     "output_type": "stream",
     "text": [
      "['\"It is not right to equate horrific incidents of sexual assault with misplaced compliments or humor,\" he said in a statement.', \"Morgan Freeman 'Devastated' That Sexual Harassment Claims Could Undermine Legacy\", 'nan']\n",
      "[0.9215500354766846, 0.05710986256599426, 0.021340111270546913]\n",
      "inside here\n"
     ]
    },
    {
     "data": {
      "text/html": [
       "<pre style=\"white-space:pre;overflow-x:auto;line-height:normal;font-family:Menlo,'DejaVu Sans Mono',consolas,'Courier New',monospace\">\n",
       "</pre>\n"
      ],
      "text/plain": [
       "\n"
      ]
     },
     "metadata": {},
     "output_type": "display_data"
    },
    {
     "data": {
      "text/html": [
       "<pre style=\"white-space:pre;overflow-x:auto;line-height:normal;font-family:Menlo,'DejaVu Sans Mono',consolas,'Courier New',monospace\">\n",
       "</pre>\n"
      ],
      "text/plain": [
       "\n"
      ]
     },
     "metadata": {},
     "output_type": "display_data"
    },
    {
     "name": "stdout",
     "output_type": "stream",
     "text": [
      "['\"It is not right to equate horrific incidents of sexual assault with misplaced compliments or humor,\" he said in a statement.', \"Morgan Freeman 'Devastated' That Sexual Harassment Claims Could Undermine Legacy\", 'nan']\n",
      "[0.9995301961898804, 0.00024678424233570695, 0.00022301945136860013]\n",
      "inside here\n"
     ]
    },
    {
     "data": {
      "text/html": [
       "<pre style=\"white-space:pre;overflow-x:auto;line-height:normal;font-family:Menlo,'DejaVu Sans Mono',consolas,'Courier New',monospace\">\n",
       "</pre>\n"
      ],
      "text/plain": [
       "\n"
      ]
     },
     "metadata": {},
     "output_type": "display_data"
    },
    {
     "data": {
      "text/html": [
       "<pre style=\"white-space:pre;overflow-x:auto;line-height:normal;font-family:Menlo,'DejaVu Sans Mono',consolas,'Courier New',monospace\">\n",
       "</pre>\n"
      ],
      "text/plain": [
       "\n"
      ]
     },
     "metadata": {},
     "output_type": "display_data"
    },
    {
     "name": "stdout",
     "output_type": "stream",
     "text": [
      "['\"It is not right to equate horrific incidents of sexual assault with misplaced compliments or humor,\" he said in a statement.', 'nan', \"Morgan Freeman 'Devastated' That Sexual Harassment Claims Could Undermine Legacy\"]\n",
      "[0.9687930941581726, 0.030577117577195168, 0.000629815855063498]\n",
      "inside here\n"
     ]
    },
    {
     "data": {
      "text/html": [
       "<pre style=\"white-space:pre;overflow-x:auto;line-height:normal;font-family:Menlo,'DejaVu Sans Mono',consolas,'Courier New',monospace\">\n",
       "</pre>\n"
      ],
      "text/plain": [
       "\n"
      ]
     },
     "metadata": {},
     "output_type": "display_data"
    },
    {
     "data": {
      "text/html": [
       "<pre style=\"white-space:pre;overflow-x:auto;line-height:normal;font-family:Menlo,'DejaVu Sans Mono',consolas,'Courier New',monospace\">\n",
       "</pre>\n"
      ],
      "text/plain": [
       "\n"
      ]
     },
     "metadata": {},
     "output_type": "display_data"
    },
    {
     "name": "stdout",
     "output_type": "stream",
     "text": [
      "['\"It is not right to equate horrific incidents of sexual assault with misplaced compliments or humor,\" he said in a statement.', \"Morgan Freeman 'Devastated' That Sexual Harassment Claims Could Undermine Legacy\", 'nan']\n",
      "[0.9958961009979248, 0.0033229459077119827, 0.0007809176458977163]\n",
      "inside here\n"
     ]
    },
    {
     "data": {
      "text/html": [
       "<pre style=\"white-space:pre;overflow-x:auto;line-height:normal;font-family:Menlo,'DejaVu Sans Mono',consolas,'Courier New',monospace\">\n",
       "</pre>\n"
      ],
      "text/plain": [
       "\n"
      ]
     },
     "metadata": {},
     "output_type": "display_data"
    },
    {
     "data": {
      "text/html": [
       "<pre style=\"white-space:pre;overflow-x:auto;line-height:normal;font-family:Menlo,'DejaVu Sans Mono',consolas,'Courier New',monospace\">\n",
       "</pre>\n"
      ],
      "text/plain": [
       "\n"
      ]
     },
     "metadata": {},
     "output_type": "display_data"
    },
    {
     "name": "stdout",
     "output_type": "stream",
     "text": [
      "['\"It is not right to equate horrific incidents of sexual assault with misplaced compliments or humor,\" he said in a statement.', 'nan', \"Morgan Freeman 'Devastated' That Sexual Harassment Claims Could Undermine Legacy\"]\n",
      "[0.9868005514144897, 0.012961219064891338, 0.00023817492183297873]\n",
      "inside here\n"
     ]
    },
    {
     "data": {
      "text/html": [
       "<pre style=\"white-space:pre;overflow-x:auto;line-height:normal;font-family:Menlo,'DejaVu Sans Mono',consolas,'Courier New',monospace\">\n",
       "</pre>\n"
      ],
      "text/plain": [
       "\n"
      ]
     },
     "metadata": {},
     "output_type": "display_data"
    },
    {
     "data": {
      "text/html": [
       "<pre style=\"white-space:pre;overflow-x:auto;line-height:normal;font-family:Menlo,'DejaVu Sans Mono',consolas,'Courier New',monospace\">\n",
       "</pre>\n"
      ],
      "text/plain": [
       "\n"
      ]
     },
     "metadata": {},
     "output_type": "display_data"
    },
    {
     "name": "stdout",
     "output_type": "stream",
     "text": [
      "['\"It is not right to equate horrific incidents of sexual assault with misplaced compliments or humor,\" he said in a statement.', 'nan', \"Morgan Freeman 'Devastated' That Sexual Harassment Claims Could Undermine Legacy\"]\n",
      "[0.7427927851676941, 0.20527274906635284, 0.05193445459008217]\n",
      "inside here\n"
     ]
    },
    {
     "data": {
      "text/html": [
       "<pre style=\"white-space:pre;overflow-x:auto;line-height:normal;font-family:Menlo,'DejaVu Sans Mono',consolas,'Courier New',monospace\">\n",
       "</pre>\n"
      ],
      "text/plain": [
       "\n"
      ]
     },
     "metadata": {},
     "output_type": "display_data"
    },
    {
     "data": {
      "text/html": [
       "<pre style=\"white-space:pre;overflow-x:auto;line-height:normal;font-family:Menlo,'DejaVu Sans Mono',consolas,'Courier New',monospace\">\n",
       "</pre>\n"
      ],
      "text/plain": [
       "\n"
      ]
     },
     "metadata": {},
     "output_type": "display_data"
    },
    {
     "name": "stdout",
     "output_type": "stream",
     "text": [
      "['Ron Dicker', \"It's catchy, all right.\", \"Donald Trump Is Lovin' New McDonald's Jingle In 'Tonight Show' Bit\"]\n",
      "[0.9838883876800537, 0.016029272228479385, 8.234252891270444e-05]\n",
      "inside here\n"
     ]
    },
    {
     "data": {
      "text/html": [
       "<pre style=\"white-space:pre;overflow-x:auto;line-height:normal;font-family:Menlo,'DejaVu Sans Mono',consolas,'Courier New',monospace\">\n",
       "</pre>\n"
      ],
      "text/plain": [
       "\n"
      ]
     },
     "metadata": {},
     "output_type": "display_data"
    },
    {
     "data": {
      "text/html": [
       "<pre style=\"white-space:pre;overflow-x:auto;line-height:normal;font-family:Menlo,'DejaVu Sans Mono',consolas,'Courier New',monospace\">\n",
       "</pre>\n"
      ],
      "text/plain": [
       "\n"
      ]
     },
     "metadata": {},
     "output_type": "display_data"
    },
    {
     "name": "stdout",
     "output_type": "stream",
     "text": [
      "[\"Donald Trump Is Lovin' New McDonald's Jingle In 'Tonight Show' Bit\", 'nan', \"It's catchy, all right.\"]\n",
      "[0.814089834690094, 0.159197136759758, 0.026713019236922264]\n",
      "inside here\n"
     ]
    },
    {
     "data": {
      "text/html": [
       "<pre style=\"white-space:pre;overflow-x:auto;line-height:normal;font-family:Menlo,'DejaVu Sans Mono',consolas,'Courier New',monospace\">\n",
       "</pre>\n"
      ],
      "text/plain": [
       "\n"
      ]
     },
     "metadata": {},
     "output_type": "display_data"
    },
    {
     "data": {
      "text/html": [
       "<pre style=\"white-space:pre;overflow-x:auto;line-height:normal;font-family:Menlo,'DejaVu Sans Mono',consolas,'Courier New',monospace\">\n",
       "</pre>\n"
      ],
      "text/plain": [
       "\n"
      ]
     },
     "metadata": {},
     "output_type": "display_data"
    },
    {
     "name": "stdout",
     "output_type": "stream",
     "text": [
      "[\"Donald Trump Is Lovin' New McDonald's Jingle In 'Tonight Show' Bit\", \"It's catchy, all right.\", 'nan']\n",
      "[0.9956080317497253, 0.0037491684779524803, 0.0006428118795156479]\n",
      "inside here\n"
     ]
    },
    {
     "data": {
      "text/html": [
       "<pre style=\"white-space:pre;overflow-x:auto;line-height:normal;font-family:Menlo,'DejaVu Sans Mono',consolas,'Courier New',monospace\">\n",
       "</pre>\n"
      ],
      "text/plain": [
       "\n"
      ]
     },
     "metadata": {},
     "output_type": "display_data"
    },
    {
     "data": {
      "text/html": [
       "<pre style=\"white-space:pre;overflow-x:auto;line-height:normal;font-family:Menlo,'DejaVu Sans Mono',consolas,'Courier New',monospace\">\n",
       "</pre>\n"
      ],
      "text/plain": [
       "\n"
      ]
     },
     "metadata": {},
     "output_type": "display_data"
    },
    {
     "name": "stdout",
     "output_type": "stream",
     "text": [
      "['nan', \"It's catchy, all right.\", \"Donald Trump Is Lovin' New McDonald's Jingle In 'Tonight Show' Bit\"]\n",
      "[0.8847294449806213, 0.09665165096521378, 0.01861889474093914]\n",
      "inside here\n"
     ]
    },
    {
     "data": {
      "text/html": [
       "<pre style=\"white-space:pre;overflow-x:auto;line-height:normal;font-family:Menlo,'DejaVu Sans Mono',consolas,'Courier New',monospace\">\n",
       "</pre>\n"
      ],
      "text/plain": [
       "\n"
      ]
     },
     "metadata": {},
     "output_type": "display_data"
    },
    {
     "data": {
      "text/html": [
       "<pre style=\"white-space:pre;overflow-x:auto;line-height:normal;font-family:Menlo,'DejaVu Sans Mono',consolas,'Courier New',monospace\">\n",
       "</pre>\n"
      ],
      "text/plain": [
       "\n"
      ]
     },
     "metadata": {},
     "output_type": "display_data"
    },
    {
     "name": "stdout",
     "output_type": "stream",
     "text": [
      "['McFizz Sakuranbo -- Japan', \"It's catchy, all right.\", \"Donald Trump Is Lovin' New McDonald's Jingle In 'Tonight Show' Bit\"]\n",
      "[0.9986660480499268, 0.0010366893839091063, 0.0002972120128106326]\n",
      "inside here\n"
     ]
    },
    {
     "data": {
      "text/html": [
       "<pre style=\"white-space:pre;overflow-x:auto;line-height:normal;font-family:Menlo,'DejaVu Sans Mono',consolas,'Courier New',monospace\">\n",
       "</pre>\n"
      ],
      "text/plain": [
       "\n"
      ]
     },
     "metadata": {},
     "output_type": "display_data"
    },
    {
     "data": {
      "text/html": [
       "<pre style=\"white-space:pre;overflow-x:auto;line-height:normal;font-family:Menlo,'DejaVu Sans Mono',consolas,'Courier New',monospace\">\n",
       "</pre>\n"
      ],
      "text/plain": [
       "\n"
      ]
     },
     "metadata": {},
     "output_type": "display_data"
    },
    {
     "name": "stdout",
     "output_type": "stream",
     "text": [
      "['Ron Dicker - General Assignment Reporter, HuffPost', \"It's catchy, all right.\", \"Donald Trump Is Lovin' New McDonald's Jingle In 'Tonight Show' Bit\"]\n",
      "[0.9998248219490051, 0.00017428124556317925, 8.952844723353337e-07]\n",
      "inside here\n"
     ]
    },
    {
     "data": {
      "text/html": [
       "<pre style=\"white-space:pre;overflow-x:auto;line-height:normal;font-family:Menlo,'DejaVu Sans Mono',consolas,'Courier New',monospace\">\n",
       "</pre>\n"
      ],
      "text/plain": [
       "\n"
      ]
     },
     "metadata": {},
     "output_type": "display_data"
    },
    {
     "data": {
      "text/html": [
       "<pre style=\"white-space:pre;overflow-x:auto;line-height:normal;font-family:Menlo,'DejaVu Sans Mono',consolas,'Courier New',monospace\">\n",
       "</pre>\n"
      ],
      "text/plain": [
       "\n"
      ]
     },
     "metadata": {},
     "output_type": "display_data"
    },
    {
     "name": "stdout",
     "output_type": "stream",
     "text": [
      "[\"It's catchy, all right.\", 'nan', \"Donald Trump Is Lovin' New McDonald's Jingle In 'Tonight Show' Bit\"]\n",
      "[0.6994225382804871, 0.2970598638057709, 0.003517628414556384]\n",
      "inside here\n"
     ]
    },
    {
     "data": {
      "text/html": [
       "<pre style=\"white-space:pre;overflow-x:auto;line-height:normal;font-family:Menlo,'DejaVu Sans Mono',consolas,'Courier New',monospace\">\n",
       "</pre>\n"
      ],
      "text/plain": [
       "\n"
      ]
     },
     "metadata": {},
     "output_type": "display_data"
    },
    {
     "data": {
      "text/html": [
       "<pre style=\"white-space:pre;overflow-x:auto;line-height:normal;font-family:Menlo,'DejaVu Sans Mono',consolas,'Courier New',monospace\">\n",
       "</pre>\n"
      ],
      "text/plain": [
       "\n"
      ]
     },
     "metadata": {},
     "output_type": "display_data"
    },
    {
     "name": "stdout",
     "output_type": "stream",
     "text": [
      "['nan', \"It's catchy, all right.\", \"Donald Trump Is Lovin' New McDonald's Jingle In 'Tonight Show' Bit\"]\n",
      "[0.5717127323150635, 0.39290952682495117, 0.03537774458527565]\n",
      "inside here\n"
     ]
    },
    {
     "data": {
      "text/html": [
       "<pre style=\"white-space:pre;overflow-x:auto;line-height:normal;font-family:Menlo,'DejaVu Sans Mono',consolas,'Courier New',monospace\">\n",
       "</pre>\n"
      ],
      "text/plain": [
       "\n"
      ]
     },
     "metadata": {},
     "output_type": "display_data"
    },
    {
     "data": {
      "text/html": [
       "<pre style=\"white-space:pre;overflow-x:auto;line-height:normal;font-family:Menlo,'DejaVu Sans Mono',consolas,'Courier New',monospace\">\n",
       "</pre>\n"
      ],
      "text/plain": [
       "\n"
      ]
     },
     "metadata": {},
     "output_type": "display_data"
    },
    {
     "name": "stdout",
     "output_type": "stream",
     "text": [
      "['nan', \"Donald Trump Is Lovin' New McDonald's Jingle In 'Tonight Show' Bit\", \"It's catchy, all right.\"]\n",
      "[0.8736925721168518, 0.08501987904310226, 0.041287533938884735]\n",
      "inside here\n"
     ]
    },
    {
     "data": {
      "text/html": [
       "<pre style=\"white-space:pre;overflow-x:auto;line-height:normal;font-family:Menlo,'DejaVu Sans Mono',consolas,'Courier New',monospace\">\n",
       "</pre>\n"
      ],
      "text/plain": [
       "\n"
      ]
     },
     "metadata": {},
     "output_type": "display_data"
    },
    {
     "data": {
      "text/html": [
       "<pre style=\"white-space:pre;overflow-x:auto;line-height:normal;font-family:Menlo,'DejaVu Sans Mono',consolas,'Courier New',monospace\">\n",
       "</pre>\n"
      ],
      "text/plain": [
       "\n"
      ]
     },
     "metadata": {},
     "output_type": "display_data"
    },
    {
     "name": "stdout",
     "output_type": "stream",
     "text": [
      "[\"Donald Trump Is Lovin' New McDonald's Jingle In 'Tonight Show' Bit\", 'nan', \"It's catchy, all right.\"]\n",
      "[0.9730981588363647, 0.016587484627962112, 0.010314383544027805]\n",
      "inside here\n"
     ]
    },
    {
     "data": {
      "text/html": [
       "<pre style=\"white-space:pre;overflow-x:auto;line-height:normal;font-family:Menlo,'DejaVu Sans Mono',consolas,'Courier New',monospace\">\n",
       "</pre>\n"
      ],
      "text/plain": [
       "\n"
      ]
     },
     "metadata": {},
     "output_type": "display_data"
    },
    {
     "data": {
      "text/html": [
       "<pre style=\"white-space:pre;overflow-x:auto;line-height:normal;font-family:Menlo,'DejaVu Sans Mono',consolas,'Courier New',monospace\">\n",
       "</pre>\n"
      ],
      "text/plain": [
       "\n"
      ]
     },
     "metadata": {},
     "output_type": "display_data"
    },
    {
     "name": "stdout",
     "output_type": "stream",
     "text": [
      "['\"The ABC Murders\" on Amazon Prime.', 'What To Watch On Amazon Prime That’s New This Week', \"There's a great mini-series joining this week.\"]\n",
      "[0.879841148853302, 0.10529511421918869, 0.014863690361380577]\n",
      "inside here\n"
     ]
    },
    {
     "data": {
      "text/html": [
       "<pre style=\"white-space:pre;overflow-x:auto;line-height:normal;font-family:Menlo,'DejaVu Sans Mono',consolas,'Courier New',monospace\">\n",
       "</pre>\n"
      ],
      "text/plain": [
       "\n"
      ]
     },
     "metadata": {},
     "output_type": "display_data"
    },
    {
     "data": {
      "text/html": [
       "<pre style=\"white-space:pre;overflow-x:auto;line-height:normal;font-family:Menlo,'DejaVu Sans Mono',consolas,'Courier New',monospace\">\n",
       "</pre>\n"
      ],
      "text/plain": [
       "\n"
      ]
     },
     "metadata": {},
     "output_type": "display_data"
    },
    {
     "name": "stdout",
     "output_type": "stream",
     "text": [
      "[\"There's a great mini-series joining this week.\", 'nan', 'What To Watch On Amazon Prime That’s New This Week']\n",
      "[0.5210039019584656, 0.36087095737457275, 0.11812517791986465]\n",
      "inside here\n"
     ]
    },
    {
     "data": {
      "text/html": [
       "<pre style=\"white-space:pre;overflow-x:auto;line-height:normal;font-family:Menlo,'DejaVu Sans Mono',consolas,'Courier New',monospace\">\n",
       "</pre>\n"
      ],
      "text/plain": [
       "\n"
      ]
     },
     "metadata": {},
     "output_type": "display_data"
    },
    {
     "data": {
      "text/html": [
       "<pre style=\"white-space:pre;overflow-x:auto;line-height:normal;font-family:Menlo,'DejaVu Sans Mono',consolas,'Courier New',monospace\">\n",
       "</pre>\n"
      ],
      "text/plain": [
       "\n"
      ]
     },
     "metadata": {},
     "output_type": "display_data"
    },
    {
     "name": "stdout",
     "output_type": "stream",
     "text": [
      "['What To Watch On Amazon Prime That’s New This Week', \"There's a great mini-series joining this week.\", 'nan']\n",
      "[0.9870141744613647, 0.012823380529880524, 0.00016233956557698548]\n",
      "inside here\n"
     ]
    },
    {
     "data": {
      "text/html": [
       "<pre style=\"white-space:pre;overflow-x:auto;line-height:normal;font-family:Menlo,'DejaVu Sans Mono',consolas,'Courier New',monospace\">\n",
       "</pre>\n"
      ],
      "text/plain": [
       "\n"
      ]
     },
     "metadata": {},
     "output_type": "display_data"
    },
    {
     "data": {
      "text/html": [
       "<pre style=\"white-space:pre;overflow-x:auto;line-height:normal;font-family:Menlo,'DejaVu Sans Mono',consolas,'Courier New',monospace\">\n",
       "</pre>\n"
      ],
      "text/plain": [
       "\n"
      ]
     },
     "metadata": {},
     "output_type": "display_data"
    },
    {
     "name": "stdout",
     "output_type": "stream",
     "text": [
      "['What To Watch On Amazon Prime That’s New This Week', \"There's a great mini-series joining this week.\", 'nan']\n",
      "[0.7042721509933472, 0.2747148871421814, 0.021012991666793823]\n",
      "inside here\n"
     ]
    },
    {
     "data": {
      "text/html": [
       "<pre style=\"white-space:pre;overflow-x:auto;line-height:normal;font-family:Menlo,'DejaVu Sans Mono',consolas,'Courier New',monospace\">\n",
       "</pre>\n"
      ],
      "text/plain": [
       "\n"
      ]
     },
     "metadata": {},
     "output_type": "display_data"
    },
    {
     "data": {
      "text/html": [
       "<pre style=\"white-space:pre;overflow-x:auto;line-height:normal;font-family:Menlo,'DejaVu Sans Mono',consolas,'Courier New',monospace\">\n",
       "</pre>\n"
      ],
      "text/plain": [
       "\n"
      ]
     },
     "metadata": {},
     "output_type": "display_data"
    },
    {
     "name": "stdout",
     "output_type": "stream",
     "text": [
      "['What To Watch On Amazon Prime That’s New This Week', \"There's a great mini-series joining this week.\", 'nan']\n",
      "[0.8541688919067383, 0.14435532689094543, 0.0014758072793483734]\n",
      "inside here\n"
     ]
    },
    {
     "data": {
      "text/html": [
       "<pre style=\"white-space:pre;overflow-x:auto;line-height:normal;font-family:Menlo,'DejaVu Sans Mono',consolas,'Courier New',monospace\">\n",
       "</pre>\n"
      ],
      "text/plain": [
       "\n"
      ]
     },
     "metadata": {},
     "output_type": "display_data"
    },
    {
     "data": {
      "text/html": [
       "<pre style=\"white-space:pre;overflow-x:auto;line-height:normal;font-family:Menlo,'DejaVu Sans Mono',consolas,'Courier New',monospace\">\n",
       "</pre>\n"
      ],
      "text/plain": [
       "\n"
      ]
     },
     "metadata": {},
     "output_type": "display_data"
    },
    {
     "name": "stdout",
     "output_type": "stream",
     "text": [
      "['Todd Van Luling - Senior Culture Reporter, HuffPost', \"There's a great mini-series joining this week.\", 'What To Watch On Amazon Prime That’s New This Week']\n",
      "[0.999625563621521, 0.00024579776800237596, 0.00012858404079452157]\n",
      "inside here\n"
     ]
    },
    {
     "data": {
      "text/html": [
       "<pre style=\"white-space:pre;overflow-x:auto;line-height:normal;font-family:Menlo,'DejaVu Sans Mono',consolas,'Courier New',monospace\">\n",
       "</pre>\n"
      ],
      "text/plain": [
       "\n"
      ]
     },
     "metadata": {},
     "output_type": "display_data"
    },
    {
     "data": {
      "text/html": [
       "<pre style=\"white-space:pre;overflow-x:auto;line-height:normal;font-family:Menlo,'DejaVu Sans Mono',consolas,'Courier New',monospace\">\n",
       "</pre>\n"
      ],
      "text/plain": [
       "\n"
      ]
     },
     "metadata": {},
     "output_type": "display_data"
    },
    {
     "name": "stdout",
     "output_type": "stream",
     "text": [
      "[\"There's a great mini-series joining this week.\", 'What To Watch On Amazon Prime That’s New This Week', 'nan']\n",
      "[0.5010362863540649, 0.45359236001968384, 0.04537132754921913]\n",
      "inside here\n"
     ]
    },
    {
     "data": {
      "text/html": [
       "<pre style=\"white-space:pre;overflow-x:auto;line-height:normal;font-family:Menlo,'DejaVu Sans Mono',consolas,'Courier New',monospace\">\n",
       "</pre>\n"
      ],
      "text/plain": [
       "\n"
      ]
     },
     "metadata": {},
     "output_type": "display_data"
    },
    {
     "data": {
      "text/html": [
       "<pre style=\"white-space:pre;overflow-x:auto;line-height:normal;font-family:Menlo,'DejaVu Sans Mono',consolas,'Courier New',monospace\">\n",
       "</pre>\n"
      ],
      "text/plain": [
       "\n"
      ]
     },
     "metadata": {},
     "output_type": "display_data"
    },
    {
     "name": "stdout",
     "output_type": "stream",
     "text": [
      "[\"There's a great mini-series joining this week.\", 'What To Watch On Amazon Prime That’s New This Week', 'nan']\n",
      "[0.6100339889526367, 0.2647319436073303, 0.12523406744003296]\n",
      "inside here\n"
     ]
    },
    {
     "data": {
      "text/html": [
       "<pre style=\"white-space:pre;overflow-x:auto;line-height:normal;font-family:Menlo,'DejaVu Sans Mono',consolas,'Courier New',monospace\">\n",
       "</pre>\n"
      ],
      "text/plain": [
       "\n"
      ]
     },
     "metadata": {},
     "output_type": "display_data"
    },
    {
     "data": {
      "text/html": [
       "<pre style=\"white-space:pre;overflow-x:auto;line-height:normal;font-family:Menlo,'DejaVu Sans Mono',consolas,'Courier New',monospace\">\n",
       "</pre>\n"
      ],
      "text/plain": [
       "\n"
      ]
     },
     "metadata": {},
     "output_type": "display_data"
    },
    {
     "name": "stdout",
     "output_type": "stream",
     "text": [
      "[\"There's a great mini-series joining this week.\", 'nan', 'What To Watch On Amazon Prime That’s New This Week']\n",
      "[0.5661566853523254, 0.27633824944496155, 0.157505065202713]\n",
      "inside here\n"
     ]
    },
    {
     "data": {
      "text/html": [
       "<pre style=\"white-space:pre;overflow-x:auto;line-height:normal;font-family:Menlo,'DejaVu Sans Mono',consolas,'Courier New',monospace\">\n",
       "</pre>\n"
      ],
      "text/plain": [
       "\n"
      ]
     },
     "metadata": {},
     "output_type": "display_data"
    },
    {
     "data": {
      "text/html": [
       "<pre style=\"white-space:pre;overflow-x:auto;line-height:normal;font-family:Menlo,'DejaVu Sans Mono',consolas,'Courier New',monospace\">\n",
       "</pre>\n"
      ],
      "text/plain": [
       "\n"
      ]
     },
     "metadata": {},
     "output_type": "display_data"
    },
    {
     "name": "stdout",
     "output_type": "stream",
     "text": [
      "['nan', \"There's a great mini-series joining this week.\", 'What To Watch On Amazon Prime That’s New This Week']\n",
      "[0.7506176233291626, 0.20771348476409912, 0.041668955236673355]\n",
      "inside here\n"
     ]
    },
    {
     "data": {
      "text/html": [
       "<pre style=\"white-space:pre;overflow-x:auto;line-height:normal;font-family:Menlo,'DejaVu Sans Mono',consolas,'Courier New',monospace\">\n",
       "</pre>\n"
      ],
      "text/plain": [
       "\n"
      ]
     },
     "metadata": {},
     "output_type": "display_data"
    },
    {
     "data": {
      "text/html": [
       "<pre style=\"white-space:pre;overflow-x:auto;line-height:normal;font-family:Menlo,'DejaVu Sans Mono',consolas,'Courier New',monospace\">\n",
       "</pre>\n"
      ],
      "text/plain": [
       "\n"
      ]
     },
     "metadata": {},
     "output_type": "display_data"
    },
    {
     "name": "stdout",
     "output_type": "stream",
     "text": [
      "['Myer\\'s kids may be pushing for a new \"Powers\" film more than anyone.', 'Andy McDonald', \"Mike Myers Reveals He'd 'Like To' Do A Fourth Austin Powers Film\"]\n",
      "[0.9482660293579102, 0.04468034580349922, 0.007053631357848644]\n",
      "inside here\n"
     ]
    },
    {
     "data": {
      "text/html": [
       "<pre style=\"white-space:pre;overflow-x:auto;line-height:normal;font-family:Menlo,'DejaVu Sans Mono',consolas,'Courier New',monospace\">\n",
       "</pre>\n"
      ],
      "text/plain": [
       "\n"
      ]
     },
     "metadata": {},
     "output_type": "display_data"
    },
    {
     "data": {
      "text/html": [
       "<pre style=\"white-space:pre;overflow-x:auto;line-height:normal;font-family:Menlo,'DejaVu Sans Mono',consolas,'Courier New',monospace\">\n",
       "</pre>\n"
      ],
      "text/plain": [
       "\n"
      ]
     },
     "metadata": {},
     "output_type": "display_data"
    },
    {
     "name": "stdout",
     "output_type": "stream",
     "text": [
      "[\"Mike Myers Reveals He'd 'Like To' Do A Fourth Austin Powers Film\", 'Myer\\'s kids may be pushing for a new \"Powers\" film more than anyone.', 'nan']\n",
      "[0.9704692363739014, 0.027586020529270172, 0.0019447088707238436]\n",
      "inside here\n"
     ]
    },
    {
     "data": {
      "text/html": [
       "<pre style=\"white-space:pre;overflow-x:auto;line-height:normal;font-family:Menlo,'DejaVu Sans Mono',consolas,'Courier New',monospace\">\n",
       "</pre>\n"
      ],
      "text/plain": [
       "\n"
      ]
     },
     "metadata": {},
     "output_type": "display_data"
    },
    {
     "data": {
      "text/html": [
       "<pre style=\"white-space:pre;overflow-x:auto;line-height:normal;font-family:Menlo,'DejaVu Sans Mono',consolas,'Courier New',monospace\">\n",
       "</pre>\n"
      ],
      "text/plain": [
       "\n"
      ]
     },
     "metadata": {},
     "output_type": "display_data"
    },
    {
     "name": "stdout",
     "output_type": "stream",
     "text": [
      "['Myer\\'s kids may be pushing for a new \"Powers\" film more than anyone.', 'nan', \"Mike Myers Reveals He'd 'Like To' Do A Fourth Austin Powers Film\"]\n",
      "[0.9028910398483276, 0.09710501879453659, 3.9955552892934065e-06]\n",
      "inside here\n"
     ]
    },
    {
     "data": {
      "text/html": [
       "<pre style=\"white-space:pre;overflow-x:auto;line-height:normal;font-family:Menlo,'DejaVu Sans Mono',consolas,'Courier New',monospace\">\n",
       "</pre>\n"
      ],
      "text/plain": [
       "\n"
      ]
     },
     "metadata": {},
     "output_type": "display_data"
    },
    {
     "data": {
      "text/html": [
       "<pre style=\"white-space:pre;overflow-x:auto;line-height:normal;font-family:Menlo,'DejaVu Sans Mono',consolas,'Courier New',monospace\">\n",
       "</pre>\n"
      ],
      "text/plain": [
       "\n"
      ]
     },
     "metadata": {},
     "output_type": "display_data"
    },
    {
     "name": "stdout",
     "output_type": "stream",
     "text": [
      "['Myer\\'s kids may be pushing for a new \"Powers\" film more than anyone.', 'nan', \"Mike Myers Reveals He'd 'Like To' Do A Fourth Austin Powers Film\"]\n",
      "[0.9669194221496582, 0.03303237631917, 4.818534216610715e-05]\n",
      "inside here\n"
     ]
    },
    {
     "data": {
      "text/html": [
       "<pre style=\"white-space:pre;overflow-x:auto;line-height:normal;font-family:Menlo,'DejaVu Sans Mono',consolas,'Courier New',monospace\">\n",
       "</pre>\n"
      ],
      "text/plain": [
       "\n"
      ]
     },
     "metadata": {},
     "output_type": "display_data"
    },
    {
     "data": {
      "text/html": [
       "<pre style=\"white-space:pre;overflow-x:auto;line-height:normal;font-family:Menlo,'DejaVu Sans Mono',consolas,'Courier New',monospace\">\n",
       "</pre>\n"
      ],
      "text/plain": [
       "\n"
      ]
     },
     "metadata": {},
     "output_type": "display_data"
    },
    {
     "name": "stdout",
     "output_type": "stream",
     "text": [
      "['Andy McDonald - Writer, HuffPost', 'Myer\\'s kids may be pushing for a new \"Powers\" film more than anyone.', \"Mike Myers Reveals He'd 'Like To' Do A Fourth Austin Powers Film\"]\n",
      "[0.8092993497848511, 0.1892925649881363, 0.0014080435503274202]\n",
      "inside here\n"
     ]
    },
    {
     "data": {
      "text/html": [
       "<pre style=\"white-space:pre;overflow-x:auto;line-height:normal;font-family:Menlo,'DejaVu Sans Mono',consolas,'Courier New',monospace\">\n",
       "</pre>\n"
      ],
      "text/plain": [
       "\n"
      ]
     },
     "metadata": {},
     "output_type": "display_data"
    },
    {
     "data": {
      "text/html": [
       "<pre style=\"white-space:pre;overflow-x:auto;line-height:normal;font-family:Menlo,'DejaVu Sans Mono',consolas,'Courier New',monospace\">\n",
       "</pre>\n"
      ],
      "text/plain": [
       "\n"
      ]
     },
     "metadata": {},
     "output_type": "display_data"
    },
    {
     "name": "stdout",
     "output_type": "stream",
     "text": [
      "['nan', 'Myer\\'s kids may be pushing for a new \"Powers\" film more than anyone.', \"Mike Myers Reveals He'd 'Like To' Do A Fourth Austin Powers Film\"]\n",
      "[0.5391380786895752, 0.43992847204208374, 0.020933400839567184]\n",
      "inside here\n"
     ]
    },
    {
     "data": {
      "text/html": [
       "<pre style=\"white-space:pre;overflow-x:auto;line-height:normal;font-family:Menlo,'DejaVu Sans Mono',consolas,'Courier New',monospace\">\n",
       "</pre>\n"
      ],
      "text/plain": [
       "\n"
      ]
     },
     "metadata": {},
     "output_type": "display_data"
    },
    {
     "data": {
      "text/html": [
       "<pre style=\"white-space:pre;overflow-x:auto;line-height:normal;font-family:Menlo,'DejaVu Sans Mono',consolas,'Courier New',monospace\">\n",
       "</pre>\n"
      ],
      "text/plain": [
       "\n"
      ]
     },
     "metadata": {},
     "output_type": "display_data"
    },
    {
     "name": "stdout",
     "output_type": "stream",
     "text": [
      "['Myer\\'s kids may be pushing for a new \"Powers\" film more than anyone.', \"Mike Myers Reveals He'd 'Like To' Do A Fourth Austin Powers Film\", 'nan']\n",
      "[0.44001635909080505, 0.3663468360900879, 0.19363681972026825]\n",
      "inside here\n"
     ]
    },
    {
     "data": {
      "text/html": [
       "<pre style=\"white-space:pre;overflow-x:auto;line-height:normal;font-family:Menlo,'DejaVu Sans Mono',consolas,'Courier New',monospace\">\n",
       "</pre>\n"
      ],
      "text/plain": [
       "\n"
      ]
     },
     "metadata": {},
     "output_type": "display_data"
    },
    {
     "data": {
      "text/html": [
       "<pre style=\"white-space:pre;overflow-x:auto;line-height:normal;font-family:Menlo,'DejaVu Sans Mono',consolas,'Courier New',monospace\">\n",
       "</pre>\n"
      ],
      "text/plain": [
       "\n"
      ]
     },
     "metadata": {},
     "output_type": "display_data"
    },
    {
     "name": "stdout",
     "output_type": "stream",
     "text": [
      "['nan', 'Myer\\'s kids may be pushing for a new \"Powers\" film more than anyone.', \"Mike Myers Reveals He'd 'Like To' Do A Fourth Austin Powers Film\"]\n",
      "[0.654133141040802, 0.34459152817726135, 0.0012753327609971166]\n",
      "inside here\n"
     ]
    },
    {
     "data": {
      "text/html": [
       "<pre style=\"white-space:pre;overflow-x:auto;line-height:normal;font-family:Menlo,'DejaVu Sans Mono',consolas,'Courier New',monospace\">\n",
       "</pre>\n"
      ],
      "text/plain": [
       "\n"
      ]
     },
     "metadata": {},
     "output_type": "display_data"
    },
    {
     "data": {
      "text/html": [
       "<pre style=\"white-space:pre;overflow-x:auto;line-height:normal;font-family:Menlo,'DejaVu Sans Mono',consolas,'Courier New',monospace\">\n",
       "</pre>\n"
      ],
      "text/plain": [
       "\n"
      ]
     },
     "metadata": {},
     "output_type": "display_data"
    },
    {
     "name": "stdout",
     "output_type": "stream",
     "text": [
      "['nan', 'Myer\\'s kids may be pushing for a new \"Powers\" film more than anyone.', \"Mike Myers Reveals He'd 'Like To' Do A Fourth Austin Powers Film\"]\n",
      "[0.5691153407096863, 0.3973853886127472, 0.033499233424663544]\n",
      "inside here\n"
     ]
    },
    {
     "data": {
      "text/html": [
       "<pre style=\"white-space:pre;overflow-x:auto;line-height:normal;font-family:Menlo,'DejaVu Sans Mono',consolas,'Courier New',monospace\">\n",
       "</pre>\n"
      ],
      "text/plain": [
       "\n"
      ]
     },
     "metadata": {},
     "output_type": "display_data"
    },
    {
     "data": {
      "text/html": [
       "<pre style=\"white-space:pre;overflow-x:auto;line-height:normal;font-family:Menlo,'DejaVu Sans Mono',consolas,'Courier New',monospace\">\n",
       "</pre>\n"
      ],
      "text/plain": [
       "\n"
      ]
     },
     "metadata": {},
     "output_type": "display_data"
    },
    {
     "name": "stdout",
     "output_type": "stream",
     "text": [
      "['nan', 'Myer\\'s kids may be pushing for a new \"Powers\" film more than anyone.', \"Mike Myers Reveals He'd 'Like To' Do A Fourth Austin Powers Film\"]\n",
      "[0.7271645665168762, 0.26951754093170166, 0.0033178767189383507]\n",
      "inside here\n"
     ]
    },
    {
     "data": {
      "text/html": [
       "<pre style=\"white-space:pre;overflow-x:auto;line-height:normal;font-family:Menlo,'DejaVu Sans Mono',consolas,'Courier New',monospace\">\n",
       "</pre>\n"
      ],
      "text/plain": [
       "\n"
      ]
     },
     "metadata": {},
     "output_type": "display_data"
    },
    {
     "data": {
      "text/html": [
       "<pre style=\"white-space:pre;overflow-x:auto;line-height:normal;font-family:Menlo,'DejaVu Sans Mono',consolas,'Courier New',monospace\">\n",
       "</pre>\n"
      ],
      "text/plain": [
       "\n"
      ]
     },
     "metadata": {},
     "output_type": "display_data"
    },
    {
     "name": "stdout",
     "output_type": "stream",
     "text": [
      "['Todd Van Luling', \"You're getting a recent Academy Award-winning movie.\", 'What To Watch On Hulu That’s New This Week']\n",
      "[0.8717808127403259, 0.08862980455160141, 0.03958934172987938]\n",
      "inside here\n"
     ]
    },
    {
     "data": {
      "text/html": [
       "<pre style=\"white-space:pre;overflow-x:auto;line-height:normal;font-family:Menlo,'DejaVu Sans Mono',consolas,'Courier New',monospace\">\n",
       "</pre>\n"
      ],
      "text/plain": [
       "\n"
      ]
     },
     "metadata": {},
     "output_type": "display_data"
    },
    {
     "data": {
      "text/html": [
       "<pre style=\"white-space:pre;overflow-x:auto;line-height:normal;font-family:Menlo,'DejaVu Sans Mono',consolas,'Courier New',monospace\">\n",
       "</pre>\n"
      ],
      "text/plain": [
       "\n"
      ]
     },
     "metadata": {},
     "output_type": "display_data"
    },
    {
     "name": "stdout",
     "output_type": "stream",
     "text": [
      "['\"Moonrise Kingdom\" comes to Hulu.', \"You're getting a recent Academy Award-winning movie.\", 'What To Watch On Hulu That’s New This Week']\n",
      "[0.9999080896377563, 5.2931889513274655e-05, 3.895337431458756e-05]\n",
      "inside here\n"
     ]
    },
    {
     "data": {
      "text/html": [
       "<pre style=\"white-space:pre;overflow-x:auto;line-height:normal;font-family:Menlo,'DejaVu Sans Mono',consolas,'Courier New',monospace\">\n",
       "</pre>\n"
      ],
      "text/plain": [
       "\n"
      ]
     },
     "metadata": {},
     "output_type": "display_data"
    },
    {
     "data": {
      "text/html": [
       "<pre style=\"white-space:pre;overflow-x:auto;line-height:normal;font-family:Menlo,'DejaVu Sans Mono',consolas,'Courier New',monospace\">\n",
       "</pre>\n"
      ],
      "text/plain": [
       "\n"
      ]
     },
     "metadata": {},
     "output_type": "display_data"
    },
    {
     "name": "stdout",
     "output_type": "stream",
     "text": [
      "['nan', 'What To Watch On Hulu That’s New This Week', \"You're getting a recent Academy Award-winning movie.\"]\n",
      "[0.5312051773071289, 0.25112608075141907, 0.21766877174377441]\n",
      "inside here\n"
     ]
    },
    {
     "data": {
      "text/html": [
       "<pre style=\"white-space:pre;overflow-x:auto;line-height:normal;font-family:Menlo,'DejaVu Sans Mono',consolas,'Courier New',monospace\">\n",
       "</pre>\n"
      ],
      "text/plain": [
       "\n"
      ]
     },
     "metadata": {},
     "output_type": "display_data"
    },
    {
     "data": {
      "text/html": [
       "<pre style=\"white-space:pre;overflow-x:auto;line-height:normal;font-family:Menlo,'DejaVu Sans Mono',consolas,'Courier New',monospace\">\n",
       "</pre>\n"
      ],
      "text/plain": [
       "\n"
      ]
     },
     "metadata": {},
     "output_type": "display_data"
    },
    {
     "name": "stdout",
     "output_type": "stream",
     "text": [
      "['What To Watch On Hulu That’s New This Week', \"You're getting a recent Academy Award-winning movie.\", 'nan']\n",
      "[0.7941027283668518, 0.184693843126297, 0.021203452721238136]\n",
      "inside here\n"
     ]
    },
    {
     "data": {
      "text/html": [
       "<pre style=\"white-space:pre;overflow-x:auto;line-height:normal;font-family:Menlo,'DejaVu Sans Mono',consolas,'Courier New',monospace\">\n",
       "</pre>\n"
      ],
      "text/plain": [
       "\n"
      ]
     },
     "metadata": {},
     "output_type": "display_data"
    },
    {
     "data": {
      "text/html": [
       "<pre style=\"white-space:pre;overflow-x:auto;line-height:normal;font-family:Menlo,'DejaVu Sans Mono',consolas,'Courier New',monospace\">\n",
       "</pre>\n"
      ],
      "text/plain": [
       "\n"
      ]
     },
     "metadata": {},
     "output_type": "display_data"
    },
    {
     "name": "stdout",
     "output_type": "stream",
     "text": [
      "['What To Watch On Hulu That’s New This Week', \"You're getting a recent Academy Award-winning movie.\", 'nan']\n",
      "[0.98392254114151, 0.015792449936270714, 0.0002850774326361716]\n",
      "inside here\n"
     ]
    },
    {
     "data": {
      "text/html": [
       "<pre style=\"white-space:pre;overflow-x:auto;line-height:normal;font-family:Menlo,'DejaVu Sans Mono',consolas,'Courier New',monospace\">\n",
       "</pre>\n"
      ],
      "text/plain": [
       "\n"
      ]
     },
     "metadata": {},
     "output_type": "display_data"
    },
    {
     "data": {
      "text/html": [
       "<pre style=\"white-space:pre;overflow-x:auto;line-height:normal;font-family:Menlo,'DejaVu Sans Mono',consolas,'Courier New',monospace\">\n",
       "</pre>\n"
      ],
      "text/plain": [
       "\n"
      ]
     },
     "metadata": {},
     "output_type": "display_data"
    },
    {
     "name": "stdout",
     "output_type": "stream",
     "text": [
      "['nan', 'What To Watch On Hulu That’s New This Week', \"You're getting a recent Academy Award-winning movie.\"]\n",
      "[0.5026314854621887, 0.3534289598464966, 0.14393959939479828]\n",
      "inside here\n"
     ]
    },
    {
     "data": {
      "text/html": [
       "<pre style=\"white-space:pre;overflow-x:auto;line-height:normal;font-family:Menlo,'DejaVu Sans Mono',consolas,'Courier New',monospace\">\n",
       "</pre>\n"
      ],
      "text/plain": [
       "\n"
      ]
     },
     "metadata": {},
     "output_type": "display_data"
    },
    {
     "data": {
      "text/html": [
       "<pre style=\"white-space:pre;overflow-x:auto;line-height:normal;font-family:Menlo,'DejaVu Sans Mono',consolas,'Courier New',monospace\">\n",
       "</pre>\n"
      ],
      "text/plain": [
       "\n"
      ]
     },
     "metadata": {},
     "output_type": "display_data"
    },
    {
     "name": "stdout",
     "output_type": "stream",
     "text": [
      "['Todd Van Luling - Senior Culture Reporter, HuffPost', \"You're getting a recent Academy Award-winning movie.\", 'What To Watch On Hulu That’s New This Week']\n",
      "[0.99936443567276, 0.0004393376293592155, 0.0001962442183867097]\n",
      "inside here\n"
     ]
    },
    {
     "data": {
      "text/html": [
       "<pre style=\"white-space:pre;overflow-x:auto;line-height:normal;font-family:Menlo,'DejaVu Sans Mono',consolas,'Courier New',monospace\">\n",
       "</pre>\n"
      ],
      "text/plain": [
       "\n"
      ]
     },
     "metadata": {},
     "output_type": "display_data"
    },
    {
     "data": {
      "text/html": [
       "<pre style=\"white-space:pre;overflow-x:auto;line-height:normal;font-family:Menlo,'DejaVu Sans Mono',consolas,'Courier New',monospace\">\n",
       "</pre>\n"
      ],
      "text/plain": [
       "\n"
      ]
     },
     "metadata": {},
     "output_type": "display_data"
    },
    {
     "name": "stdout",
     "output_type": "stream",
     "text": [
      "['What To Watch On Hulu That’s New This Week', \"You're getting a recent Academy Award-winning movie.\", 'nan']\n",
      "[0.4346316456794739, 0.4013771116733551, 0.1639912724494934]\n",
      "inside here\n"
     ]
    },
    {
     "data": {
      "text/html": [
       "<pre style=\"white-space:pre;overflow-x:auto;line-height:normal;font-family:Menlo,'DejaVu Sans Mono',consolas,'Courier New',monospace\">\n",
       "</pre>\n"
      ],
      "text/plain": [
       "\n"
      ]
     },
     "metadata": {},
     "output_type": "display_data"
    },
    {
     "data": {
      "text/html": [
       "<pre style=\"white-space:pre;overflow-x:auto;line-height:normal;font-family:Menlo,'DejaVu Sans Mono',consolas,'Courier New',monospace\">\n",
       "</pre>\n"
      ],
      "text/plain": [
       "\n"
      ]
     },
     "metadata": {},
     "output_type": "display_data"
    },
    {
     "name": "stdout",
     "output_type": "stream",
     "text": [
      "['What To Watch On Hulu That’s New This Week', \"You're getting a recent Academy Award-winning movie.\", 'nan']\n",
      "[0.5882272720336914, 0.2891849875450134, 0.1225876733660698]\n",
      "inside here\n"
     ]
    },
    {
     "data": {
      "text/html": [
       "<pre style=\"white-space:pre;overflow-x:auto;line-height:normal;font-family:Menlo,'DejaVu Sans Mono',consolas,'Courier New',monospace\">\n",
       "</pre>\n"
      ],
      "text/plain": [
       "\n"
      ]
     },
     "metadata": {},
     "output_type": "display_data"
    },
    {
     "data": {
      "text/html": [
       "<pre style=\"white-space:pre;overflow-x:auto;line-height:normal;font-family:Menlo,'DejaVu Sans Mono',consolas,'Courier New',monospace\">\n",
       "</pre>\n"
      ],
      "text/plain": [
       "\n"
      ]
     },
     "metadata": {},
     "output_type": "display_data"
    },
    {
     "name": "stdout",
     "output_type": "stream",
     "text": [
      "['nan', 'What To Watch On Hulu That’s New This Week', \"You're getting a recent Academy Award-winning movie.\"]\n",
      "[0.5207551717758179, 0.27523326873779297, 0.20401155948638916]\n",
      "inside here\n"
     ]
    }
   ],
   "source": [
    "from clip_client import Client\n",
    "from docarray import Document\n",
    "df2=[]\n",
    "scores = []\n",
    "c = Client(server='grpc://0.0.0.0:51000')\n",
    "for i, row in shortdf.iterrows():\n",
    "    r = c.rank(\n",
    "        [\n",
    "            Document(\n",
    "                uri=row['image_link(s)'],\n",
    "                matches=[\n",
    "                    Document(text=f'{p}')\n",
    "                    for p in (\n",
    "                        row['headline'],row['short descr'],row['image_caption(s)']\n",
    "                    )\n",
    "                ],\n",
    "            )\n",
    "        ]\n",
    "    )\n",
    "    col=[]\n",
    "\n",
    "#     print(r['@m', ['text', 'scores__clip_score__value']])\n",
    "    print(r['@m', ['text']])\n",
    "    print(r['@m', ['scores__clip_score__value']])\n",
    "    score = [0,0,0]\n",
    "    for i in range(0,len(r), 3):\n",
    "        for j in range(3):\n",
    "            col.append(r['@m', ['text']][i+j])\n",
    "            if (r['@m', ['text']][i+j] == row['headline']):\n",
    "                print('inside here')\n",
    "                score[0] = r['@m', ['scores__clip_score__value']][i+j]\n",
    "            if (r['@m', ['text']][i+j] == row['short descr']):\n",
    "                score[1] = r['@m', ['scores__clip_score__value']][i+j]\n",
    "            if (r['@m', ['text']][i+j] == row['image_caption(s)']):\n",
    "                score[2] = r['@m', ['scores__clip_score__value']][i+j]\n",
    "            \n",
    "            \n",
    "\n",
    "            col.append(r['@m', ['scores__clip_score__value']][i+j])\n",
    "        scores.append(score)\n",
    "        df2.append(col)\n",
    "df3 = pd.DataFrame(scores, columns = ['headline','short descr','image caption'])"
   ]
  },
  {
   "cell_type": "code",
   "execution_count": 9,
   "id": "8a44b775",
   "metadata": {
    "scrolled": true
   },
   "outputs": [],
   "source": [
    "dff2 = pd.DataFrame(df2)"
   ]
  },
  {
   "cell_type": "code",
   "execution_count": 10,
   "id": "ebb9fc60",
   "metadata": {},
   "outputs": [
    {
     "data": {
      "text/html": [
       "<div>\n",
       "<style scoped>\n",
       "    .dataframe tbody tr th:only-of-type {\n",
       "        vertical-align: middle;\n",
       "    }\n",
       "\n",
       "    .dataframe tbody tr th {\n",
       "        vertical-align: top;\n",
       "    }\n",
       "\n",
       "    .dataframe thead th {\n",
       "        text-align: right;\n",
       "    }\n",
       "</style>\n",
       "<table border=\"1\" class=\"dataframe\">\n",
       "  <thead>\n",
       "    <tr style=\"text-align: right;\">\n",
       "      <th></th>\n",
       "      <th>0</th>\n",
       "      <th>1</th>\n",
       "      <th>2</th>\n",
       "      <th>3</th>\n",
       "      <th>4</th>\n",
       "      <th>5</th>\n",
       "    </tr>\n",
       "  </thead>\n",
       "  <tbody>\n",
       "    <tr>\n",
       "      <th>0</th>\n",
       "      <td>a photo of Donna Bloom, director of legal serv...</td>\n",
       "      <td>0.996866</td>\n",
       "      <td>a photo of There Were 2 Mass Shootings In Texa...</td>\n",
       "      <td>0.002353</td>\n",
       "      <td>a photo of She left her husband. He killed the...</td>\n",
       "      <td>0.000781</td>\n",
       "    </tr>\n",
       "    <tr>\n",
       "      <th>1</th>\n",
       "      <td>a photo of There Were 2 Mass Shootings In Texa...</td>\n",
       "      <td>0.851511</td>\n",
       "      <td>a photo of She left her husband. He killed the...</td>\n",
       "      <td>0.148194</td>\n",
       "      <td>a photo of nan</td>\n",
       "      <td>0.000295</td>\n",
       "    </tr>\n",
       "    <tr>\n",
       "      <th>2</th>\n",
       "      <td>a photo of There Were 2 Mass Shootings In Texa...</td>\n",
       "      <td>0.970399</td>\n",
       "      <td>a photo of She left her husband. He killed the...</td>\n",
       "      <td>0.029321</td>\n",
       "      <td>a photo of nan</td>\n",
       "      <td>0.000279</td>\n",
       "    </tr>\n",
       "    <tr>\n",
       "      <th>3</th>\n",
       "      <td>a photo of Melissa Jeltsen - Senior Reporter, ...</td>\n",
       "      <td>0.996708</td>\n",
       "      <td>a photo of She left her husband. He killed the...</td>\n",
       "      <td>0.002904</td>\n",
       "      <td>a photo of There Were 2 Mass Shootings In Texa...</td>\n",
       "      <td>0.000388</td>\n",
       "    </tr>\n",
       "    <tr>\n",
       "      <th>4</th>\n",
       "      <td>a photo of She left her husband. He killed the...</td>\n",
       "      <td>0.989486</td>\n",
       "      <td>a photo of nan</td>\n",
       "      <td>0.009067</td>\n",
       "      <td>a photo of There Were 2 Mass Shootings In Texa...</td>\n",
       "      <td>0.001447</td>\n",
       "    </tr>\n",
       "    <tr>\n",
       "      <th>...</th>\n",
       "      <td>...</td>\n",
       "      <td>...</td>\n",
       "      <td>...</td>\n",
       "      <td>...</td>\n",
       "      <td>...</td>\n",
       "      <td>...</td>\n",
       "    </tr>\n",
       "    <tr>\n",
       "      <th>94</th>\n",
       "      <td>a photo of nan</td>\n",
       "      <td>0.621906</td>\n",
       "      <td>a photo of What To Watch On Hulu That’s New Th...</td>\n",
       "      <td>0.305682</td>\n",
       "      <td>a photo of You're getting a recent Academy Awa...</td>\n",
       "      <td>0.072412</td>\n",
       "    </tr>\n",
       "    <tr>\n",
       "      <th>95</th>\n",
       "      <td>a photo of Todd Van Luling - Senior Culture Re...</td>\n",
       "      <td>0.998563</td>\n",
       "      <td>a photo of What To Watch On Hulu That’s New Th...</td>\n",
       "      <td>0.001166</td>\n",
       "      <td>a photo of You're getting a recent Academy Awa...</td>\n",
       "      <td>0.000271</td>\n",
       "    </tr>\n",
       "    <tr>\n",
       "      <th>96</th>\n",
       "      <td>a photo of What To Watch On Hulu That’s New Th...</td>\n",
       "      <td>0.602507</td>\n",
       "      <td>a photo of nan</td>\n",
       "      <td>0.276361</td>\n",
       "      <td>a photo of You're getting a recent Academy Awa...</td>\n",
       "      <td>0.121132</td>\n",
       "    </tr>\n",
       "    <tr>\n",
       "      <th>97</th>\n",
       "      <td>a photo of What To Watch On Hulu That’s New Th...</td>\n",
       "      <td>0.631781</td>\n",
       "      <td>a photo of You're getting a recent Academy Awa...</td>\n",
       "      <td>0.212671</td>\n",
       "      <td>a photo of nan</td>\n",
       "      <td>0.155548</td>\n",
       "    </tr>\n",
       "    <tr>\n",
       "      <th>98</th>\n",
       "      <td>a photo of nan</td>\n",
       "      <td>0.664794</td>\n",
       "      <td>a photo of What To Watch On Hulu That’s New Th...</td>\n",
       "      <td>0.208907</td>\n",
       "      <td>a photo of You're getting a recent Academy Awa...</td>\n",
       "      <td>0.126300</td>\n",
       "    </tr>\n",
       "  </tbody>\n",
       "</table>\n",
       "<p>99 rows × 6 columns</p>\n",
       "</div>"
      ],
      "text/plain": [
       "                                                    0         1  \\\n",
       "0   a photo of Donna Bloom, director of legal serv...  0.996866   \n",
       "1   a photo of There Were 2 Mass Shootings In Texa...  0.851511   \n",
       "2   a photo of There Were 2 Mass Shootings In Texa...  0.970399   \n",
       "3   a photo of Melissa Jeltsen - Senior Reporter, ...  0.996708   \n",
       "4   a photo of She left her husband. He killed the...  0.989486   \n",
       "..                                                ...       ...   \n",
       "94                                     a photo of nan  0.621906   \n",
       "95  a photo of Todd Van Luling - Senior Culture Re...  0.998563   \n",
       "96  a photo of What To Watch On Hulu That’s New Th...  0.602507   \n",
       "97  a photo of What To Watch On Hulu That’s New Th...  0.631781   \n",
       "98                                     a photo of nan  0.664794   \n",
       "\n",
       "                                                    2         3  \\\n",
       "0   a photo of There Were 2 Mass Shootings In Texa...  0.002353   \n",
       "1   a photo of She left her husband. He killed the...  0.148194   \n",
       "2   a photo of She left her husband. He killed the...  0.029321   \n",
       "3   a photo of She left her husband. He killed the...  0.002904   \n",
       "4                                      a photo of nan  0.009067   \n",
       "..                                                ...       ...   \n",
       "94  a photo of What To Watch On Hulu That’s New Th...  0.305682   \n",
       "95  a photo of What To Watch On Hulu That’s New Th...  0.001166   \n",
       "96                                     a photo of nan  0.276361   \n",
       "97  a photo of You're getting a recent Academy Awa...  0.212671   \n",
       "98  a photo of What To Watch On Hulu That’s New Th...  0.208907   \n",
       "\n",
       "                                                    4         5  \n",
       "0   a photo of She left her husband. He killed the...  0.000781  \n",
       "1                                      a photo of nan  0.000295  \n",
       "2                                      a photo of nan  0.000279  \n",
       "3   a photo of There Were 2 Mass Shootings In Texa...  0.000388  \n",
       "4   a photo of There Were 2 Mass Shootings In Texa...  0.001447  \n",
       "..                                                ...       ...  \n",
       "94  a photo of You're getting a recent Academy Awa...  0.072412  \n",
       "95  a photo of You're getting a recent Academy Awa...  0.000271  \n",
       "96  a photo of You're getting a recent Academy Awa...  0.121132  \n",
       "97                                     a photo of nan  0.155548  \n",
       "98  a photo of You're getting a recent Academy Awa...  0.126300  \n",
       "\n",
       "[99 rows x 6 columns]"
      ]
     },
     "execution_count": 10,
     "metadata": {},
     "output_type": "execute_result"
    }
   ],
   "source": [
    "dff2"
   ]
  },
  {
   "cell_type": "code",
   "execution_count": 11,
   "id": "4600a3db",
   "metadata": {},
   "outputs": [
    {
     "data": {
      "text/html": [
       "<div>\n",
       "<style scoped>\n",
       "    .dataframe tbody tr th:only-of-type {\n",
       "        vertical-align: middle;\n",
       "    }\n",
       "\n",
       "    .dataframe tbody tr th {\n",
       "        vertical-align: top;\n",
       "    }\n",
       "\n",
       "    .dataframe thead th {\n",
       "        text-align: right;\n",
       "    }\n",
       "</style>\n",
       "<table border=\"1\" class=\"dataframe\">\n",
       "  <thead>\n",
       "    <tr style=\"text-align: right;\">\n",
       "      <th></th>\n",
       "      <th>Unnamed: 0</th>\n",
       "      <th>category</th>\n",
       "      <th>headline</th>\n",
       "      <th>authors</th>\n",
       "      <th>link</th>\n",
       "      <th>short descr</th>\n",
       "      <th>date</th>\n",
       "      <th>image_caption(s)</th>\n",
       "      <th>image_link(s)</th>\n",
       "    </tr>\n",
       "  </thead>\n",
       "  <tbody>\n",
       "    <tr>\n",
       "      <th>1</th>\n",
       "      <td>1</td>\n",
       "      <td>CRIME</td>\n",
       "      <td>There Were 2 Mass Shootings In Texas Last Week...</td>\n",
       "      <td>Melissa Jeltsen</td>\n",
       "      <td>https://www.huffingtonpost.com/entry/texas-ama...</td>\n",
       "      <td>She left her husband. He killed their children...</td>\n",
       "      <td>2018-05-26</td>\n",
       "      <td>Donna Bloom, director of legal services at Den...</td>\n",
       "      <td>https://img.huffingtonpost.com/asset/5b081d6c1...</td>\n",
       "    </tr>\n",
       "    <tr>\n",
       "      <th>2</th>\n",
       "      <td>2</td>\n",
       "      <td>CRIME</td>\n",
       "      <td>There Were 2 Mass Shootings In Texas Last Week...</td>\n",
       "      <td>Melissa Jeltsen</td>\n",
       "      <td>https://www.huffingtonpost.com/entry/texas-ama...</td>\n",
       "      <td>She left her husband. He killed their children...</td>\n",
       "      <td>2018-05-26</td>\n",
       "      <td>NaN</td>\n",
       "      <td>https://img.huffingtonpost.com/asset/5b081c9f1...</td>\n",
       "    </tr>\n",
       "    <tr>\n",
       "      <th>3</th>\n",
       "      <td>3</td>\n",
       "      <td>CRIME</td>\n",
       "      <td>There Were 2 Mass Shootings In Texas Last Week...</td>\n",
       "      <td>Melissa Jeltsen</td>\n",
       "      <td>https://www.huffingtonpost.com/entry/texas-ama...</td>\n",
       "      <td>She left her husband. He killed their children...</td>\n",
       "      <td>2018-05-26</td>\n",
       "      <td>NaN</td>\n",
       "      <td>https://img.huffingtonpost.com/asset/5b0844b51...</td>\n",
       "    </tr>\n",
       "    <tr>\n",
       "      <th>4</th>\n",
       "      <td>4</td>\n",
       "      <td>CRIME</td>\n",
       "      <td>There Were 2 Mass Shootings In Texas Last Week...</td>\n",
       "      <td>Melissa Jeltsen</td>\n",
       "      <td>https://www.huffingtonpost.com/entry/texas-ama...</td>\n",
       "      <td>She left her husband. He killed their children...</td>\n",
       "      <td>2018-05-26</td>\n",
       "      <td>Melissa Jeltsen - Senior Reporter, HuffPost</td>\n",
       "      <td>https://img.huffingtonpost.com/asset/5c1128ec2...</td>\n",
       "    </tr>\n",
       "    <tr>\n",
       "      <th>5</th>\n",
       "      <td>5</td>\n",
       "      <td>CRIME</td>\n",
       "      <td>There Were 2 Mass Shootings In Texas Last Week...</td>\n",
       "      <td>Melissa Jeltsen</td>\n",
       "      <td>https://www.huffingtonpost.com/entry/texas-ama...</td>\n",
       "      <td>She left her husband. He killed their children...</td>\n",
       "      <td>2018-05-26</td>\n",
       "      <td>NaN</td>\n",
       "      <td>https://img.huffingtonpost.com/asset/62bb083f2...</td>\n",
       "    </tr>\n",
       "    <tr>\n",
       "      <th>...</th>\n",
       "      <td>...</td>\n",
       "      <td>...</td>\n",
       "      <td>...</td>\n",
       "      <td>...</td>\n",
       "      <td>...</td>\n",
       "      <td>...</td>\n",
       "      <td>...</td>\n",
       "      <td>...</td>\n",
       "      <td>...</td>\n",
       "    </tr>\n",
       "    <tr>\n",
       "      <th>95</th>\n",
       "      <td>95</td>\n",
       "      <td>ENTERTAINMENT</td>\n",
       "      <td>What To Watch On Hulu That’s New This Week</td>\n",
       "      <td>Todd Van Luling</td>\n",
       "      <td>https://www.huffingtonpost.com/entry/hulu-what...</td>\n",
       "      <td>You're getting a recent Academy Award-winning ...</td>\n",
       "      <td>2018-05-26</td>\n",
       "      <td>NaN</td>\n",
       "      <td>https://img.huffingtonpost.com/asset/62b7ebfc2...</td>\n",
       "    </tr>\n",
       "    <tr>\n",
       "      <th>96</th>\n",
       "      <td>96</td>\n",
       "      <td>ENTERTAINMENT</td>\n",
       "      <td>What To Watch On Hulu That’s New This Week</td>\n",
       "      <td>Todd Van Luling</td>\n",
       "      <td>https://www.huffingtonpost.com/entry/hulu-what...</td>\n",
       "      <td>You're getting a recent Academy Award-winning ...</td>\n",
       "      <td>2018-05-26</td>\n",
       "      <td>Todd Van Luling - Senior Culture Reporter, Huf...</td>\n",
       "      <td>https://img.huffingtonpost.com/asset/5e5b285f2...</td>\n",
       "    </tr>\n",
       "    <tr>\n",
       "      <th>97</th>\n",
       "      <td>97</td>\n",
       "      <td>ENTERTAINMENT</td>\n",
       "      <td>What To Watch On Hulu That’s New This Week</td>\n",
       "      <td>Todd Van Luling</td>\n",
       "      <td>https://www.huffingtonpost.com/entry/hulu-what...</td>\n",
       "      <td>You're getting a recent Academy Award-winning ...</td>\n",
       "      <td>2018-05-26</td>\n",
       "      <td>NaN</td>\n",
       "      <td>https://img.huffingtonpost.com/asset/62bb3d1d2...</td>\n",
       "    </tr>\n",
       "    <tr>\n",
       "      <th>98</th>\n",
       "      <td>98</td>\n",
       "      <td>ENTERTAINMENT</td>\n",
       "      <td>What To Watch On Hulu That’s New This Week</td>\n",
       "      <td>Todd Van Luling</td>\n",
       "      <td>https://www.huffingtonpost.com/entry/hulu-what...</td>\n",
       "      <td>You're getting a recent Academy Award-winning ...</td>\n",
       "      <td>2018-05-26</td>\n",
       "      <td>NaN</td>\n",
       "      <td>https://img.huffingtonpost.com/asset/62bae6ed2...</td>\n",
       "    </tr>\n",
       "    <tr>\n",
       "      <th>99</th>\n",
       "      <td>99</td>\n",
       "      <td>ENTERTAINMENT</td>\n",
       "      <td>What To Watch On Hulu That’s New This Week</td>\n",
       "      <td>Todd Van Luling</td>\n",
       "      <td>https://www.huffingtonpost.com/entry/hulu-what...</td>\n",
       "      <td>You're getting a recent Academy Award-winning ...</td>\n",
       "      <td>2018-05-26</td>\n",
       "      <td>NaN</td>\n",
       "      <td>https://img.huffingtonpost.com/asset/62bad7102...</td>\n",
       "    </tr>\n",
       "  </tbody>\n",
       "</table>\n",
       "<p>99 rows × 9 columns</p>\n",
       "</div>"
      ],
      "text/plain": [
       "    Unnamed: 0       category  \\\n",
       "1            1          CRIME   \n",
       "2            2          CRIME   \n",
       "3            3          CRIME   \n",
       "4            4          CRIME   \n",
       "5            5          CRIME   \n",
       "..         ...            ...   \n",
       "95          95  ENTERTAINMENT   \n",
       "96          96  ENTERTAINMENT   \n",
       "97          97  ENTERTAINMENT   \n",
       "98          98  ENTERTAINMENT   \n",
       "99          99  ENTERTAINMENT   \n",
       "\n",
       "                                             headline          authors  \\\n",
       "1   There Were 2 Mass Shootings In Texas Last Week...  Melissa Jeltsen   \n",
       "2   There Were 2 Mass Shootings In Texas Last Week...  Melissa Jeltsen   \n",
       "3   There Were 2 Mass Shootings In Texas Last Week...  Melissa Jeltsen   \n",
       "4   There Were 2 Mass Shootings In Texas Last Week...  Melissa Jeltsen   \n",
       "5   There Were 2 Mass Shootings In Texas Last Week...  Melissa Jeltsen   \n",
       "..                                                ...              ...   \n",
       "95         What To Watch On Hulu That’s New This Week  Todd Van Luling   \n",
       "96         What To Watch On Hulu That’s New This Week  Todd Van Luling   \n",
       "97         What To Watch On Hulu That’s New This Week  Todd Van Luling   \n",
       "98         What To Watch On Hulu That’s New This Week  Todd Van Luling   \n",
       "99         What To Watch On Hulu That’s New This Week  Todd Van Luling   \n",
       "\n",
       "                                                 link  \\\n",
       "1   https://www.huffingtonpost.com/entry/texas-ama...   \n",
       "2   https://www.huffingtonpost.com/entry/texas-ama...   \n",
       "3   https://www.huffingtonpost.com/entry/texas-ama...   \n",
       "4   https://www.huffingtonpost.com/entry/texas-ama...   \n",
       "5   https://www.huffingtonpost.com/entry/texas-ama...   \n",
       "..                                                ...   \n",
       "95  https://www.huffingtonpost.com/entry/hulu-what...   \n",
       "96  https://www.huffingtonpost.com/entry/hulu-what...   \n",
       "97  https://www.huffingtonpost.com/entry/hulu-what...   \n",
       "98  https://www.huffingtonpost.com/entry/hulu-what...   \n",
       "99  https://www.huffingtonpost.com/entry/hulu-what...   \n",
       "\n",
       "                                          short descr        date  \\\n",
       "1   She left her husband. He killed their children...  2018-05-26   \n",
       "2   She left her husband. He killed their children...  2018-05-26   \n",
       "3   She left her husband. He killed their children...  2018-05-26   \n",
       "4   She left her husband. He killed their children...  2018-05-26   \n",
       "5   She left her husband. He killed their children...  2018-05-26   \n",
       "..                                                ...         ...   \n",
       "95  You're getting a recent Academy Award-winning ...  2018-05-26   \n",
       "96  You're getting a recent Academy Award-winning ...  2018-05-26   \n",
       "97  You're getting a recent Academy Award-winning ...  2018-05-26   \n",
       "98  You're getting a recent Academy Award-winning ...  2018-05-26   \n",
       "99  You're getting a recent Academy Award-winning ...  2018-05-26   \n",
       "\n",
       "                                     image_caption(s)  \\\n",
       "1   Donna Bloom, director of legal services at Den...   \n",
       "2                                                 NaN   \n",
       "3                                                 NaN   \n",
       "4         Melissa Jeltsen - Senior Reporter, HuffPost   \n",
       "5                                                 NaN   \n",
       "..                                                ...   \n",
       "95                                                NaN   \n",
       "96  Todd Van Luling - Senior Culture Reporter, Huf...   \n",
       "97                                                NaN   \n",
       "98                                                NaN   \n",
       "99                                                NaN   \n",
       "\n",
       "                                        image_link(s)  \n",
       "1   https://img.huffingtonpost.com/asset/5b081d6c1...  \n",
       "2   https://img.huffingtonpost.com/asset/5b081c9f1...  \n",
       "3   https://img.huffingtonpost.com/asset/5b0844b51...  \n",
       "4   https://img.huffingtonpost.com/asset/5c1128ec2...  \n",
       "5   https://img.huffingtonpost.com/asset/62bb083f2...  \n",
       "..                                                ...  \n",
       "95  https://img.huffingtonpost.com/asset/62b7ebfc2...  \n",
       "96  https://img.huffingtonpost.com/asset/5e5b285f2...  \n",
       "97  https://img.huffingtonpost.com/asset/62bb3d1d2...  \n",
       "98  https://img.huffingtonpost.com/asset/62bae6ed2...  \n",
       "99  https://img.huffingtonpost.com/asset/62bad7102...  \n",
       "\n",
       "[99 rows x 9 columns]"
      ]
     },
     "execution_count": 11,
     "metadata": {},
     "output_type": "execute_result"
    }
   ],
   "source": [
    "shortdf"
   ]
  },
  {
   "cell_type": "code",
   "execution_count": 15,
   "id": "5b26f7c8",
   "metadata": {},
   "outputs": [
    {
     "data": {
      "text/html": [
       "<div>\n",
       "<style scoped>\n",
       "    .dataframe tbody tr th:only-of-type {\n",
       "        vertical-align: middle;\n",
       "    }\n",
       "\n",
       "    .dataframe tbody tr th {\n",
       "        vertical-align: top;\n",
       "    }\n",
       "\n",
       "    .dataframe thead th {\n",
       "        text-align: right;\n",
       "    }\n",
       "</style>\n",
       "<table border=\"1\" class=\"dataframe\">\n",
       "  <thead>\n",
       "    <tr style=\"text-align: right;\">\n",
       "      <th></th>\n",
       "      <th>headline</th>\n",
       "      <th>short descr</th>\n",
       "      <th>image caption</th>\n",
       "    </tr>\n",
       "  </thead>\n",
       "  <tbody>\n",
       "    <tr>\n",
       "      <th>0</th>\n",
       "      <td>0.002701</td>\n",
       "      <td>0.002535</td>\n",
       "      <td>0.994763</td>\n",
       "    </tr>\n",
       "    <tr>\n",
       "      <th>1</th>\n",
       "      <td>0.878868</td>\n",
       "      <td>0.121125</td>\n",
       "      <td>0.000000</td>\n",
       "    </tr>\n",
       "    <tr>\n",
       "      <th>2</th>\n",
       "      <td>0.871205</td>\n",
       "      <td>0.128667</td>\n",
       "      <td>0.000000</td>\n",
       "    </tr>\n",
       "    <tr>\n",
       "      <th>3</th>\n",
       "      <td>0.000498</td>\n",
       "      <td>0.002167</td>\n",
       "      <td>0.997335</td>\n",
       "    </tr>\n",
       "    <tr>\n",
       "      <th>4</th>\n",
       "      <td>0.013610</td>\n",
       "      <td>0.981711</td>\n",
       "      <td>0.000000</td>\n",
       "    </tr>\n",
       "    <tr>\n",
       "      <th>...</th>\n",
       "      <td>...</td>\n",
       "      <td>...</td>\n",
       "      <td>...</td>\n",
       "    </tr>\n",
       "    <tr>\n",
       "      <th>94</th>\n",
       "      <td>0.353429</td>\n",
       "      <td>0.143940</td>\n",
       "      <td>0.000000</td>\n",
       "    </tr>\n",
       "    <tr>\n",
       "      <th>95</th>\n",
       "      <td>0.000196</td>\n",
       "      <td>0.000439</td>\n",
       "      <td>0.999364</td>\n",
       "    </tr>\n",
       "    <tr>\n",
       "      <th>96</th>\n",
       "      <td>0.434632</td>\n",
       "      <td>0.401377</td>\n",
       "      <td>0.000000</td>\n",
       "    </tr>\n",
       "    <tr>\n",
       "      <th>97</th>\n",
       "      <td>0.588227</td>\n",
       "      <td>0.289185</td>\n",
       "      <td>0.000000</td>\n",
       "    </tr>\n",
       "    <tr>\n",
       "      <th>98</th>\n",
       "      <td>0.275233</td>\n",
       "      <td>0.204012</td>\n",
       "      <td>0.000000</td>\n",
       "    </tr>\n",
       "  </tbody>\n",
       "</table>\n",
       "<p>99 rows × 3 columns</p>\n",
       "</div>"
      ],
      "text/plain": [
       "    headline  short descr  image caption\n",
       "0   0.002701     0.002535       0.994763\n",
       "1   0.878868     0.121125       0.000000\n",
       "2   0.871205     0.128667       0.000000\n",
       "3   0.000498     0.002167       0.997335\n",
       "4   0.013610     0.981711       0.000000\n",
       "..       ...          ...            ...\n",
       "94  0.353429     0.143940       0.000000\n",
       "95  0.000196     0.000439       0.999364\n",
       "96  0.434632     0.401377       0.000000\n",
       "97  0.588227     0.289185       0.000000\n",
       "98  0.275233     0.204012       0.000000\n",
       "\n",
       "[99 rows x 3 columns]"
      ]
     },
     "execution_count": 15,
     "metadata": {},
     "output_type": "execute_result"
    }
   ],
   "source": [
    "df3"
   ]
  },
  {
   "cell_type": "code",
   "execution_count": 19,
   "id": "5541385d",
   "metadata": {},
   "outputs": [],
   "source": [
    "both_joined = pd.concat([shortdf, df3], axis=1)"
   ]
  },
  {
   "cell_type": "code",
   "execution_count": 20,
   "id": "73aaca94",
   "metadata": {},
   "outputs": [
    {
     "data": {
      "text/html": [
       "<div>\n",
       "<style scoped>\n",
       "    .dataframe tbody tr th:only-of-type {\n",
       "        vertical-align: middle;\n",
       "    }\n",
       "\n",
       "    .dataframe tbody tr th {\n",
       "        vertical-align: top;\n",
       "    }\n",
       "\n",
       "    .dataframe thead th {\n",
       "        text-align: right;\n",
       "    }\n",
       "</style>\n",
       "<table border=\"1\" class=\"dataframe\">\n",
       "  <thead>\n",
       "    <tr style=\"text-align: right;\">\n",
       "      <th></th>\n",
       "      <th>Unnamed: 0</th>\n",
       "      <th>category</th>\n",
       "      <th>headline</th>\n",
       "      <th>authors</th>\n",
       "      <th>link</th>\n",
       "      <th>short descr</th>\n",
       "      <th>date</th>\n",
       "      <th>image_caption(s)</th>\n",
       "      <th>image_link(s)</th>\n",
       "      <th>headline</th>\n",
       "      <th>short descr</th>\n",
       "      <th>image caption</th>\n",
       "    </tr>\n",
       "  </thead>\n",
       "  <tbody>\n",
       "    <tr>\n",
       "      <th>1</th>\n",
       "      <td>1.0</td>\n",
       "      <td>CRIME</td>\n",
       "      <td>There Were 2 Mass Shootings In Texas Last Week...</td>\n",
       "      <td>Melissa Jeltsen</td>\n",
       "      <td>https://www.huffingtonpost.com/entry/texas-ama...</td>\n",
       "      <td>She left her husband. He killed their children...</td>\n",
       "      <td>2018-05-26</td>\n",
       "      <td>Donna Bloom, director of legal services at Den...</td>\n",
       "      <td>https://img.huffingtonpost.com/asset/5b081d6c1...</td>\n",
       "      <td>0.878868</td>\n",
       "      <td>0.121125</td>\n",
       "      <td>0.000000</td>\n",
       "    </tr>\n",
       "    <tr>\n",
       "      <th>2</th>\n",
       "      <td>2.0</td>\n",
       "      <td>CRIME</td>\n",
       "      <td>There Were 2 Mass Shootings In Texas Last Week...</td>\n",
       "      <td>Melissa Jeltsen</td>\n",
       "      <td>https://www.huffingtonpost.com/entry/texas-ama...</td>\n",
       "      <td>She left her husband. He killed their children...</td>\n",
       "      <td>2018-05-26</td>\n",
       "      <td>NaN</td>\n",
       "      <td>https://img.huffingtonpost.com/asset/5b081c9f1...</td>\n",
       "      <td>0.871205</td>\n",
       "      <td>0.128667</td>\n",
       "      <td>0.000000</td>\n",
       "    </tr>\n",
       "    <tr>\n",
       "      <th>3</th>\n",
       "      <td>3.0</td>\n",
       "      <td>CRIME</td>\n",
       "      <td>There Were 2 Mass Shootings In Texas Last Week...</td>\n",
       "      <td>Melissa Jeltsen</td>\n",
       "      <td>https://www.huffingtonpost.com/entry/texas-ama...</td>\n",
       "      <td>She left her husband. He killed their children...</td>\n",
       "      <td>2018-05-26</td>\n",
       "      <td>NaN</td>\n",
       "      <td>https://img.huffingtonpost.com/asset/5b0844b51...</td>\n",
       "      <td>0.000498</td>\n",
       "      <td>0.002167</td>\n",
       "      <td>0.997335</td>\n",
       "    </tr>\n",
       "    <tr>\n",
       "      <th>4</th>\n",
       "      <td>4.0</td>\n",
       "      <td>CRIME</td>\n",
       "      <td>There Were 2 Mass Shootings In Texas Last Week...</td>\n",
       "      <td>Melissa Jeltsen</td>\n",
       "      <td>https://www.huffingtonpost.com/entry/texas-ama...</td>\n",
       "      <td>She left her husband. He killed their children...</td>\n",
       "      <td>2018-05-26</td>\n",
       "      <td>Melissa Jeltsen - Senior Reporter, HuffPost</td>\n",
       "      <td>https://img.huffingtonpost.com/asset/5c1128ec2...</td>\n",
       "      <td>0.013610</td>\n",
       "      <td>0.981711</td>\n",
       "      <td>0.000000</td>\n",
       "    </tr>\n",
       "    <tr>\n",
       "      <th>5</th>\n",
       "      <td>5.0</td>\n",
       "      <td>CRIME</td>\n",
       "      <td>There Were 2 Mass Shootings In Texas Last Week...</td>\n",
       "      <td>Melissa Jeltsen</td>\n",
       "      <td>https://www.huffingtonpost.com/entry/texas-ama...</td>\n",
       "      <td>She left her husband. He killed their children...</td>\n",
       "      <td>2018-05-26</td>\n",
       "      <td>NaN</td>\n",
       "      <td>https://img.huffingtonpost.com/asset/62bb083f2...</td>\n",
       "      <td>0.004723</td>\n",
       "      <td>0.971597</td>\n",
       "      <td>0.000000</td>\n",
       "    </tr>\n",
       "    <tr>\n",
       "      <th>...</th>\n",
       "      <td>...</td>\n",
       "      <td>...</td>\n",
       "      <td>...</td>\n",
       "      <td>...</td>\n",
       "      <td>...</td>\n",
       "      <td>...</td>\n",
       "      <td>...</td>\n",
       "      <td>...</td>\n",
       "      <td>...</td>\n",
       "      <td>...</td>\n",
       "      <td>...</td>\n",
       "      <td>...</td>\n",
       "    </tr>\n",
       "    <tr>\n",
       "      <th>96</th>\n",
       "      <td>96.0</td>\n",
       "      <td>ENTERTAINMENT</td>\n",
       "      <td>What To Watch On Hulu That’s New This Week</td>\n",
       "      <td>Todd Van Luling</td>\n",
       "      <td>https://www.huffingtonpost.com/entry/hulu-what...</td>\n",
       "      <td>You're getting a recent Academy Award-winning ...</td>\n",
       "      <td>2018-05-26</td>\n",
       "      <td>Todd Van Luling - Senior Culture Reporter, Huf...</td>\n",
       "      <td>https://img.huffingtonpost.com/asset/5e5b285f2...</td>\n",
       "      <td>0.434632</td>\n",
       "      <td>0.401377</td>\n",
       "      <td>0.000000</td>\n",
       "    </tr>\n",
       "    <tr>\n",
       "      <th>97</th>\n",
       "      <td>97.0</td>\n",
       "      <td>ENTERTAINMENT</td>\n",
       "      <td>What To Watch On Hulu That’s New This Week</td>\n",
       "      <td>Todd Van Luling</td>\n",
       "      <td>https://www.huffingtonpost.com/entry/hulu-what...</td>\n",
       "      <td>You're getting a recent Academy Award-winning ...</td>\n",
       "      <td>2018-05-26</td>\n",
       "      <td>NaN</td>\n",
       "      <td>https://img.huffingtonpost.com/asset/62bb3d1d2...</td>\n",
       "      <td>0.588227</td>\n",
       "      <td>0.289185</td>\n",
       "      <td>0.000000</td>\n",
       "    </tr>\n",
       "    <tr>\n",
       "      <th>98</th>\n",
       "      <td>98.0</td>\n",
       "      <td>ENTERTAINMENT</td>\n",
       "      <td>What To Watch On Hulu That’s New This Week</td>\n",
       "      <td>Todd Van Luling</td>\n",
       "      <td>https://www.huffingtonpost.com/entry/hulu-what...</td>\n",
       "      <td>You're getting a recent Academy Award-winning ...</td>\n",
       "      <td>2018-05-26</td>\n",
       "      <td>NaN</td>\n",
       "      <td>https://img.huffingtonpost.com/asset/62bae6ed2...</td>\n",
       "      <td>0.275233</td>\n",
       "      <td>0.204012</td>\n",
       "      <td>0.000000</td>\n",
       "    </tr>\n",
       "    <tr>\n",
       "      <th>99</th>\n",
       "      <td>99.0</td>\n",
       "      <td>ENTERTAINMENT</td>\n",
       "      <td>What To Watch On Hulu That’s New This Week</td>\n",
       "      <td>Todd Van Luling</td>\n",
       "      <td>https://www.huffingtonpost.com/entry/hulu-what...</td>\n",
       "      <td>You're getting a recent Academy Award-winning ...</td>\n",
       "      <td>2018-05-26</td>\n",
       "      <td>NaN</td>\n",
       "      <td>https://img.huffingtonpost.com/asset/62bad7102...</td>\n",
       "      <td>NaN</td>\n",
       "      <td>NaN</td>\n",
       "      <td>NaN</td>\n",
       "    </tr>\n",
       "    <tr>\n",
       "      <th>0</th>\n",
       "      <td>NaN</td>\n",
       "      <td>NaN</td>\n",
       "      <td>NaN</td>\n",
       "      <td>NaN</td>\n",
       "      <td>NaN</td>\n",
       "      <td>NaN</td>\n",
       "      <td>NaN</td>\n",
       "      <td>NaN</td>\n",
       "      <td>NaN</td>\n",
       "      <td>0.002701</td>\n",
       "      <td>0.002535</td>\n",
       "      <td>0.994763</td>\n",
       "    </tr>\n",
       "  </tbody>\n",
       "</table>\n",
       "<p>100 rows × 12 columns</p>\n",
       "</div>"
      ],
      "text/plain": [
       "    Unnamed: 0       category  \\\n",
       "1          1.0          CRIME   \n",
       "2          2.0          CRIME   \n",
       "3          3.0          CRIME   \n",
       "4          4.0          CRIME   \n",
       "5          5.0          CRIME   \n",
       "..         ...            ...   \n",
       "96        96.0  ENTERTAINMENT   \n",
       "97        97.0  ENTERTAINMENT   \n",
       "98        98.0  ENTERTAINMENT   \n",
       "99        99.0  ENTERTAINMENT   \n",
       "0          NaN            NaN   \n",
       "\n",
       "                                             headline          authors  \\\n",
       "1   There Were 2 Mass Shootings In Texas Last Week...  Melissa Jeltsen   \n",
       "2   There Were 2 Mass Shootings In Texas Last Week...  Melissa Jeltsen   \n",
       "3   There Were 2 Mass Shootings In Texas Last Week...  Melissa Jeltsen   \n",
       "4   There Were 2 Mass Shootings In Texas Last Week...  Melissa Jeltsen   \n",
       "5   There Were 2 Mass Shootings In Texas Last Week...  Melissa Jeltsen   \n",
       "..                                                ...              ...   \n",
       "96         What To Watch On Hulu That’s New This Week  Todd Van Luling   \n",
       "97         What To Watch On Hulu That’s New This Week  Todd Van Luling   \n",
       "98         What To Watch On Hulu That’s New This Week  Todd Van Luling   \n",
       "99         What To Watch On Hulu That’s New This Week  Todd Van Luling   \n",
       "0                                                 NaN              NaN   \n",
       "\n",
       "                                                 link  \\\n",
       "1   https://www.huffingtonpost.com/entry/texas-ama...   \n",
       "2   https://www.huffingtonpost.com/entry/texas-ama...   \n",
       "3   https://www.huffingtonpost.com/entry/texas-ama...   \n",
       "4   https://www.huffingtonpost.com/entry/texas-ama...   \n",
       "5   https://www.huffingtonpost.com/entry/texas-ama...   \n",
       "..                                                ...   \n",
       "96  https://www.huffingtonpost.com/entry/hulu-what...   \n",
       "97  https://www.huffingtonpost.com/entry/hulu-what...   \n",
       "98  https://www.huffingtonpost.com/entry/hulu-what...   \n",
       "99  https://www.huffingtonpost.com/entry/hulu-what...   \n",
       "0                                                 NaN   \n",
       "\n",
       "                                          short descr        date  \\\n",
       "1   She left her husband. He killed their children...  2018-05-26   \n",
       "2   She left her husband. He killed their children...  2018-05-26   \n",
       "3   She left her husband. He killed their children...  2018-05-26   \n",
       "4   She left her husband. He killed their children...  2018-05-26   \n",
       "5   She left her husband. He killed their children...  2018-05-26   \n",
       "..                                                ...         ...   \n",
       "96  You're getting a recent Academy Award-winning ...  2018-05-26   \n",
       "97  You're getting a recent Academy Award-winning ...  2018-05-26   \n",
       "98  You're getting a recent Academy Award-winning ...  2018-05-26   \n",
       "99  You're getting a recent Academy Award-winning ...  2018-05-26   \n",
       "0                                                 NaN         NaN   \n",
       "\n",
       "                                     image_caption(s)  \\\n",
       "1   Donna Bloom, director of legal services at Den...   \n",
       "2                                                 NaN   \n",
       "3                                                 NaN   \n",
       "4         Melissa Jeltsen - Senior Reporter, HuffPost   \n",
       "5                                                 NaN   \n",
       "..                                                ...   \n",
       "96  Todd Van Luling - Senior Culture Reporter, Huf...   \n",
       "97                                                NaN   \n",
       "98                                                NaN   \n",
       "99                                                NaN   \n",
       "0                                                 NaN   \n",
       "\n",
       "                                        image_link(s)  headline  short descr  \\\n",
       "1   https://img.huffingtonpost.com/asset/5b081d6c1...  0.878868     0.121125   \n",
       "2   https://img.huffingtonpost.com/asset/5b081c9f1...  0.871205     0.128667   \n",
       "3   https://img.huffingtonpost.com/asset/5b0844b51...  0.000498     0.002167   \n",
       "4   https://img.huffingtonpost.com/asset/5c1128ec2...  0.013610     0.981711   \n",
       "5   https://img.huffingtonpost.com/asset/62bb083f2...  0.004723     0.971597   \n",
       "..                                                ...       ...          ...   \n",
       "96  https://img.huffingtonpost.com/asset/5e5b285f2...  0.434632     0.401377   \n",
       "97  https://img.huffingtonpost.com/asset/62bb3d1d2...  0.588227     0.289185   \n",
       "98  https://img.huffingtonpost.com/asset/62bae6ed2...  0.275233     0.204012   \n",
       "99  https://img.huffingtonpost.com/asset/62bad7102...       NaN          NaN   \n",
       "0                                                 NaN  0.002701     0.002535   \n",
       "\n",
       "    image caption  \n",
       "1        0.000000  \n",
       "2        0.000000  \n",
       "3        0.997335  \n",
       "4        0.000000  \n",
       "5        0.000000  \n",
       "..            ...  \n",
       "96       0.000000  \n",
       "97       0.000000  \n",
       "98       0.000000  \n",
       "99            NaN  \n",
       "0        0.994763  \n",
       "\n",
       "[100 rows x 12 columns]"
      ]
     },
     "execution_count": 20,
     "metadata": {},
     "output_type": "execute_result"
    }
   ],
   "source": [
    "both_joined"
   ]
  },
  {
   "cell_type": "code",
   "execution_count": 21,
   "id": "23a0a308",
   "metadata": {},
   "outputs": [],
   "source": [
    "both_joined.to_csv('checking_scores.csv')"
   ]
  },
  {
   "cell_type": "code",
   "execution_count": null,
   "id": "b4db092e",
   "metadata": {},
   "outputs": [],
   "source": []
  }
 ],
 "metadata": {
  "kernelspec": {
   "display_name": "Python 3 (ipykernel)",
   "language": "python",
   "name": "python3"
  },
  "language_info": {
   "codemirror_mode": {
    "name": "ipython",
    "version": 3
   },
   "file_extension": ".py",
   "mimetype": "text/x-python",
   "name": "python",
   "nbconvert_exporter": "python",
   "pygments_lexer": "ipython3",
   "version": "3.9.10"
  }
 },
 "nbformat": 4,
 "nbformat_minor": 5
}
