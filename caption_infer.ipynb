{
 "cells": [
  {
   "cell_type": "markdown",
   "id": "_jJOSpPHCX8z",
   "metadata": {
    "id": "_jJOSpPHCX8z"
   },
   "source": [
    "# **OFA**\n",
    "Start to enjoy image captioning with OFA! "
   ]
  },
  {
   "cell_type": "code",
   "execution_count": 1,
   "id": "ec574b20",
   "metadata": {},
   "outputs": [
    {
     "name": "stdout",
     "output_type": "stream",
     "text": [
      "/Users/ben/Desktop/DISSERTATION/github/dissertation2022\n",
      "[Errno 2] No such file or directory: 'content'\n",
      "/Users/ben/Desktop/DISSERTATION/github/dissertation2022\n",
      "/Users/ben/Desktop/DISSERTATION/github/dissertation2022\n"
     ]
    }
   ],
   "source": [
    "! pwd\n",
    "%cd content\n",
    "! pwd"
   ]
  },
  {
   "cell_type": "code",
   "execution_count": 2,
   "id": "4mE8hHnb4UBa",
   "metadata": {
    "colab": {
     "base_uri": "https://localhost:8080/"
    },
    "id": "4mE8hHnb4UBa",
    "outputId": "0d6d3530-75bd-4a8d-bd6b-2dfde4624b48"
   },
   "outputs": [
    {
     "name": "stdout",
     "output_type": "stream",
     "text": [
      "Cloning into 'OFA'...\n",
      "remote: Enumerating objects: 5921, done.\u001b[K\n",
      "remote: Counting objects: 100% (684/684), done.\u001b[K\n",
      "remote: Compressing objects: 100% (202/202), done.\u001b[K\n",
      "remote: Total 5921 (delta 533), reused 552 (delta 478), pack-reused 5237\u001b[K\n",
      "Receiving objects: 100% (5921/5921), 121.74 MiB | 2.05 MiB/s, done.\n",
      "Resolving deltas: 100% (2241/2241), done.\n"
     ]
    }
   ],
   "source": [
    "# clone OFA if there does not exist the repo\n",
    "\n",
    "! git clone https://github.com/OFA-Sys/OFA.git"
   ]
  },
  {
   "cell_type": "markdown",
   "id": "9dQmNjQdCt93",
   "metadata": {
    "id": "9dQmNjQdCt93"
   },
   "source": [
    "## **Download Checkpoint**\n",
    "We provide a link for our public checkpoint, and you only need to wget it to your workspace. We also provide an alternative below. Choose one as you like!"
   ]
  },
  {
   "cell_type": "markdown",
   "id": "a23eedba",
   "metadata": {},
   "source": [
    "# Why did I even start to download the chkpnt when later on have to use tensorflow so there is no point? Have to use colab only for this, have to mount my google drive prior to doing that so that dont have to download again and again and again. This is a nightmare to maintain honestly. "
   ]
  },
  {
   "cell_type": "code",
   "execution_count": null,
   "id": "5S238JJhvjrI",
   "metadata": {
    "colab": {
     "base_uri": "https://localhost:8080/"
    },
    "id": "5S238JJhvjrI",
    "outputId": "c98eee6f-cbdc-42fb-9792-819fb8696de1"
   },
   "outputs": [
    {
     "name": "stdout",
     "output_type": "stream",
     "text": [
      "mkdir: /content: Read-only file system\n",
      "--2022-07-18 20:36:20--  https://ofa-silicon.oss-us-west-1.aliyuncs.com/checkpoints/caption_large_best_clean.pt\n",
      "Resolving ofa-silicon.oss-us-west-1.aliyuncs.com (ofa-silicon.oss-us-west-1.aliyuncs.com)... 47.88.111.45\n",
      "Connecting to ofa-silicon.oss-us-west-1.aliyuncs.com (ofa-silicon.oss-us-west-1.aliyuncs.com)|47.88.111.45|:443... connected.\n",
      "HTTP request sent, awaiting response... 200 OK\n",
      "Length: 5717992325 (5.3G) [application/octet-stream]\n",
      "Saving to: ‘caption_large_best_clean.pt’\n",
      "\n",
      "caption_large_best_  47%[========>           ]   2.51G  --.-KB/s    eta 2h 6m  "
     ]
    }
   ],
   "source": [
    "\n",
    "! mkdir -p /content/OFA/checkpoints/\n",
    "! wget https://ofa-silicon.oss-us-west-1.aliyuncs.com/checkpoints/caption_large_best_clean.pt\n",
    "! mv caption_large_best_clean.pt OFA/checkpoints/caption.pt"
   ]
  },
  {
   "cell_type": "markdown",
   "id": "kUUIZubclg-K",
   "metadata": {
    "id": "kUUIZubclg-K"
   },
   "source": [
    "BTW, if you cannot endure downloading (which might be slow if there are too many people downloading our checkpoint at the same time), we provide an alternative with Google Drive. \n",
    "\n",
    "First you need to manually put the checkpoint on your Google Drive by clicking the [URL](https://drive.google.com/file/d/1WBQl0WlzvdctslJyLNgedYpRrWAZC69X/view?usp=sharing) and clicking the bottom on the top right. ![C49C4C46-72DD-47A1-9685-94DD83319B50.png](data:image/png;base64,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)\n",
    "\n",
    "Then you just need to run the codes below without waiting:)"
   ]
  },
  {
   "cell_type": "code",
   "execution_count": null,
   "id": "OegLqLNbli0B",
   "metadata": {
    "colab": {
     "base_uri": "https://localhost:8080/",
     "height": 446
    },
    "id": "OegLqLNbli0B",
    "outputId": "6ac66d11-92c1-4527-dc42-fe2fd307131d"
   },
   "outputs": [],
   "source": [
    "from google.colab import drive\n",
    "drive.mount('/content/Drive')\n",
    "! mkdir -p /content/OFA/checkpoints\n",
    "! ln -s /content/Drive/MyDrive/caption.pt /content/OFA/checkpoints/caption.pt"
   ]
  },
  {
   "cell_type": "markdown",
   "id": "P-BbNqgvDH4l",
   "metadata": {
    "id": "P-BbNqgvDH4l"
   },
   "source": [
    "## **Install Fairseq**\n",
    "We advise you to install fairseq by cloning the official repository and running \"pip install\". \n",
    "\n",
    "You should restart the window if you meet the hint of \"RESTART RUNTIME\". "
   ]
  },
  {
   "cell_type": "code",
   "execution_count": null,
   "id": "fp4uO91Y6Nrz",
   "metadata": {
    "id": "fp4uO91Y6Nrz"
   },
   "outputs": [],
   "source": [
    "# clone Fairseq for installation\n",
    "% cd /content\n",
    "! git clone https://github.com/pytorch/fairseq.git\n",
    "% cd /content/fairseq\n",
    "! pip install --use-feature=in-tree-build ./"
   ]
  },
  {
   "cell_type": "markdown",
   "id": "P54XzUU_FK1_",
   "metadata": {
    "id": "P54XzUU_FK1_"
   },
   "source": [
    "## **Preparation**\n",
    "Below you just need to import required packages, and check whether to use GPU or FP16. "
   ]
  },
  {
   "cell_type": "code",
   "execution_count": null,
   "id": "wzbFZ1ftE6Z5",
   "metadata": {
    "id": "wzbFZ1ftE6Z5"
   },
   "outputs": [],
   "source": [
    "% cd /content/OFA\n",
    "! sed '1d' requirements.txt | xargs -I {} pip install {}"
   ]
  },
  {
   "cell_type": "code",
   "execution_count": null,
   "id": "2f544b02",
   "metadata": {
    "id": "2f544b02"
   },
   "outputs": [],
   "source": [
    "import torch\n",
    "import numpy as np\n",
    "from fairseq import utils,tasks\n",
    "from fairseq import checkpoint_utils\n",
    "from utils.eval_utils import eval_step\n",
    "from tasks.mm_tasks.caption import CaptionTask\n",
    "from models.ofa import OFAModel\n",
    "from PIL import Image\n",
    "\n",
    "# Register caption task\n",
    "tasks.register_task('caption',CaptionTask)\n",
    "\n",
    "# turn on cuda if GPU is available\n",
    "use_cuda = torch.cuda.is_available()\n",
    "# use fp16 only when GPU is available\n",
    "use_fp16 = False"
   ]
  },
  {
   "cell_type": "markdown",
   "id": "PbtThfLMGb48",
   "metadata": {
    "id": "PbtThfLMGb48"
   },
   "source": [
    "## **Build Model**\n",
    "Below you can build your model and load the weights from the given checkpoint, and also build a generator. "
   ]
  },
  {
   "cell_type": "code",
   "execution_count": null,
   "id": "2947346c",
   "metadata": {
    "id": "2947346c"
   },
   "outputs": [],
   "source": [
    "# Load pretrained ckpt & config\n",
    "overrides={\"bpe_dir\":\"utils/BPE\", \"eval_cider\":False, \"beam\":5, \"max_len_b\":16, \"no_repeat_ngram_size\":3, \"seed\":7}\n",
    "models, cfg, task = checkpoint_utils.load_model_ensemble_and_task(\n",
    "        utils.split_paths('checkpoints/caption.pt'),\n",
    "        arg_overrides=overrides\n",
    "    )\n",
    "\n",
    "# Move models to GPU\n",
    "for model in models:\n",
    "    model.eval()\n",
    "    if use_fp16:\n",
    "        model.half()\n",
    "    if use_cuda and not cfg.distributed_training.pipeline_model_parallel:\n",
    "        model.cuda()\n",
    "    model.prepare_for_inference_(cfg)\n",
    "\n",
    "# Initialize generator\n",
    "generator = task.build_generator(models, cfg.generation)"
   ]
  },
  {
   "cell_type": "markdown",
   "id": "X5gToRpjGqUa",
   "metadata": {
    "id": "X5gToRpjGqUa"
   },
   "source": [
    "## **Preprocess**\n",
    "We demonstrate the required transformation fucntions for preprocessing inputs."
   ]
  },
  {
   "cell_type": "code",
   "execution_count": null,
   "id": "ebec2f3c",
   "metadata": {
    "id": "ebec2f3c"
   },
   "outputs": [],
   "source": [
    "# Image transform\n",
    "from torchvision import transforms\n",
    "mean = [0.5, 0.5, 0.5]\n",
    "std = [0.5, 0.5, 0.5]\n",
    "\n",
    "patch_resize_transform = transforms.Compose([\n",
    "    lambda image: image.convert(\"RGB\"),\n",
    "    transforms.Resize((cfg.task.patch_image_size, cfg.task.patch_image_size), interpolation=Image.BICUBIC),\n",
    "    transforms.ToTensor(),\n",
    "    transforms.Normalize(mean=mean, std=std),\n",
    "])\n",
    "\n",
    "# Text preprocess\n",
    "bos_item = torch.LongTensor([task.src_dict.bos()])\n",
    "eos_item = torch.LongTensor([task.src_dict.eos()])\n",
    "pad_idx = task.src_dict.pad()\n",
    "def encode_text(text, length=None, append_bos=False, append_eos=False):\n",
    "    s = task.tgt_dict.encode_line(\n",
    "        line=task.bpe.encode(text),\n",
    "        add_if_not_exist=False,\n",
    "        append_eos=False\n",
    "    ).long()\n",
    "    if length is not None:\n",
    "        s = s[:length]\n",
    "    if append_bos:\n",
    "        s = torch.cat([bos_item, s])\n",
    "    if append_eos:\n",
    "        s = torch.cat([s, eos_item])\n",
    "    return s\n",
    "\n",
    "# Construct input for caption task\n",
    "def construct_sample(image: Image):\n",
    "    patch_image = patch_resize_transform(image).unsqueeze(0)\n",
    "    patch_mask = torch.tensor([True])\n",
    "    src_text = encode_text(\" what does the image describe?\", append_bos=True, append_eos=True).unsqueeze(0)\n",
    "    src_length = torch.LongTensor([s.ne(pad_idx).long().sum() for s in src_text])\n",
    "    sample = {\n",
    "        \"id\":np.array(['42']),\n",
    "        \"net_input\": {\n",
    "            \"src_tokens\": src_text,\n",
    "            \"src_lengths\": src_length,\n",
    "            \"patch_images\": patch_image,\n",
    "            \"patch_masks\": patch_mask\n",
    "        }\n",
    "    }\n",
    "    return sample\n",
    "  \n",
    "# Function to turn FP32 to FP16\n",
    "def apply_half(t):\n",
    "    if t.dtype is torch.float32:\n",
    "        return t.to(dtype=torch.half)\n",
    "    return t"
   ]
  },
  {
   "cell_type": "markdown",
   "id": "z5j2DSVMG6i-",
   "metadata": {
    "id": "z5j2DSVMG6i-"
   },
   "source": [
    "## **Run Inference**\n",
    "Download an image and run the following scripts to generate the caption."
   ]
  },
  {
   "cell_type": "code",
   "execution_count": null,
   "id": "afba440c",
   "metadata": {
    "id": "afba440c"
   },
   "outputs": [],
   "source": [
    "# Download an image from COCO or you can use other images with wget\n",
    "! wget http://farm4.staticflickr.com/3539/3836680545_2ccb331621_z.jpg \n",
    "! mv 3836680545_2ccb331621_z.jpg  test.jpg\n",
    "image = Image.open('./test.jpg')\n",
    "\n",
    "# Construct input sample & preprocess for GPU if cuda available\n",
    "sample = construct_sample(image)\n",
    "sample = utils.move_to_cuda(sample) if use_cuda else sample\n",
    "sample = utils.apply_to_sample(apply_half, sample) if use_fp16 else sample"
   ]
  },
  {
   "cell_type": "code",
   "execution_count": null,
   "id": "04a82115",
   "metadata": {
    "id": "04a82115",
    "scrolled": true
   },
   "outputs": [],
   "source": [
    "# Run eval step for caption\n",
    "with torch.no_grad():\n",
    "    result, scores = eval_step(task, generator, models, sample)"
   ]
  },
  {
   "cell_type": "code",
   "execution_count": null,
   "id": "3hgeEtwyQTtW",
   "metadata": {
    "id": "3hgeEtwyQTtW"
   },
   "outputs": [],
   "source": [
    "display(image)\n",
    "print('Caption: {}'.format(result[0]['caption']))\n"
   ]
  }
 ],
 "metadata": {
  "accelerator": "GPU",
  "colab": {
   "collapsed_sections": [],
   "name": "caption_infer.ipynb",
   "provenance": []
  },
  "kernelspec": {
   "display_name": "Python 3.9 (tensorflow)",
   "language": "python",
   "name": "tensorflow"
  },
  "language_info": {
   "codemirror_mode": {
    "name": "ipython",
    "version": 3
   },
   "file_extension": ".py",
   "mimetype": "text/x-python",
   "name": "python",
   "nbconvert_exporter": "python",
   "pygments_lexer": "ipython3",
   "version": "3.9.12"
  }
 },
 "nbformat": 4,
 "nbformat_minor": 5
}
